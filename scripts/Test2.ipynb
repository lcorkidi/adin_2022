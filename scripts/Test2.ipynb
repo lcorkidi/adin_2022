{
 "cells": [
  {
   "cell_type": "code",
   "execution_count": 2,
   "id": "63a199b9",
   "metadata": {},
   "outputs": [],
   "source": [
    "import os\n",
    "import csv\n",
    "import adin.settings as st\n",
    "from IPython.display import display\n",
    "from references.forms.address_forms import AddressCreateModelForm\n",
    "from django.contrib.auth.models import User\n",
    "from os.path import join\n",
    "from adin.settings import BASE_DIR\n",
    "\n",
    "os.environ[\"DJANGO_ALLOW_ASYNC_UNSAFE\"] = \"true\""
   ]
  },
  {
   "cell_type": "code",
   "execution_count": 3,
   "id": "ccca887d",
   "metadata": {},
   "outputs": [],
   "source": [
    "def data_load(load_info, load_list=None):\n",
    "    timers = {}\n",
    "    counter = 0\n",
    "    if load_list:\n",
    "        for element in load_list:\n",
    "            model_load(load_info[element])\n",
    "    else:\n",
    "        for value in load_info.values():\n",
    "            model_load(value)\n",
    "    \n",
    "def model_load(load_dict):\n",
    "    df_from_csv = pd.read_csv(join(BASE_DIR, f\"_files/exports/{load_dict['csv_name']}\"), keep_default_na=False)\\\n",
    "        .drop(load_dict['to_drop'], axis=1)\\\n",
    "        .rename(columns=load_dict['to_rename'])\n",
    "    data_dict = df_from_csv\\\n",
    "        .assign(**{column: df_from_csv[column].apply(lambda x: None if x == '' else x) for column in df_from_csv.columns})\\\n",
    "        .assign(**{column: df_from_csv[column].apply(lambda x: model.objects.get(pk=x)) for column, model in load_dict['fk_dict'].items()})\\\n",
    "        .assign(state=df_from_csv.state.apply(lambda x: 2))\\\n",
    "        .to_dict('index')\n",
    "    load_dict['model'].objects.bulk_create([load_dict['model'](**data) for key, data in data_dict.items()])"
   ]
  },
  {
   "cell_type": "code",
   "execution_count": 4,
   "id": "8c46bb8f",
   "metadata": {},
   "outputs": [
    {
     "data": {
      "text/html": [
       "<div>\n",
       "<style scoped>\n",
       "    .dataframe tbody tr th:only-of-type {\n",
       "        vertical-align: middle;\n",
       "    }\n",
       "\n",
       "    .dataframe tbody tr th {\n",
       "        vertical-align: top;\n",
       "    }\n",
       "\n",
       "    .dataframe thead th {\n",
       "        text-align: right;\n",
       "    }\n",
       "</style>\n",
       "<table border=\"1\" class=\"dataframe\">\n",
       "  <thead>\n",
       "    <tr style=\"text-align: right;\">\n",
       "      <th></th>\n",
       "      <th>accountable</th>\n",
       "      <th>accountable_transaction_type</th>\n",
       "    </tr>\n",
       "  </thead>\n",
       "  <tbody>\n",
       "    <tr>\n",
       "      <th>0</th>\n",
       "      <td>C18-1N-41^2021-02-01</td>\n",
       "      <td>Arriendo Inmueble Comercial</td>\n",
       "    </tr>\n",
       "    <tr>\n",
       "      <th>1</th>\n",
       "      <td>K1-17-43^2017-07-15</td>\n",
       "      <td>Arriendo Inmueble Comercial</td>\n",
       "    </tr>\n",
       "    <tr>\n",
       "      <th>2</th>\n",
       "      <td>K1-17-37^2012-02-01</td>\n",
       "      <td>Arriendo Inmueble Comercial</td>\n",
       "    </tr>\n",
       "    <tr>\n",
       "      <th>3</th>\n",
       "      <td>C18-1N-39^2022-03-01</td>\n",
       "      <td>Arriendo Inmueble Comercial</td>\n",
       "    </tr>\n",
       "    <tr>\n",
       "      <th>4</th>\n",
       "      <td>C18-1N-33^2021-10-01</td>\n",
       "      <td>Arriendo Inmueble Comercial</td>\n",
       "    </tr>\n",
       "    <tr>\n",
       "      <th>...</th>\n",
       "      <td>...</td>\n",
       "      <td>...</td>\n",
       "    </tr>\n",
       "    <tr>\n",
       "      <th>68</th>\n",
       "      <td>A6N-13N-62-S308^2022-03-01</td>\n",
       "      <td>Arriendo Inmueble Residencial</td>\n",
       "    </tr>\n",
       "    <tr>\n",
       "      <th>69</th>\n",
       "      <td>A6N-13N-62-S309^2022-03-01</td>\n",
       "      <td>Arriendo Inmueble Residencial</td>\n",
       "    </tr>\n",
       "    <tr>\n",
       "      <th>70</th>\n",
       "      <td>A6N-13N-62-S311^2021-11-01</td>\n",
       "      <td>Arriendo Inmueble Residencial</td>\n",
       "    </tr>\n",
       "    <tr>\n",
       "      <th>71</th>\n",
       "      <td>A6N-13N-62-S312^2007-06-01</td>\n",
       "      <td>Arriendo Inmueble Residencial</td>\n",
       "    </tr>\n",
       "    <tr>\n",
       "      <th>72</th>\n",
       "      <td>A6N-13N-62-S314^2019-06-01</td>\n",
       "      <td>Arriendo Inmueble Residencial</td>\n",
       "    </tr>\n",
       "  </tbody>\n",
       "</table>\n",
       "<p>73 rows × 2 columns</p>\n",
       "</div>"
      ],
      "text/plain": [
       "                   accountable   accountable_transaction_type\n",
       "0         C18-1N-41^2021-02-01    Arriendo Inmueble Comercial\n",
       "1          K1-17-43^2017-07-15    Arriendo Inmueble Comercial\n",
       "2          K1-17-37^2012-02-01    Arriendo Inmueble Comercial\n",
       "3         C18-1N-39^2022-03-01    Arriendo Inmueble Comercial\n",
       "4         C18-1N-33^2021-10-01    Arriendo Inmueble Comercial\n",
       "..                         ...                            ...\n",
       "68  A6N-13N-62-S308^2022-03-01  Arriendo Inmueble Residencial\n",
       "69  A6N-13N-62-S309^2022-03-01  Arriendo Inmueble Residencial\n",
       "70  A6N-13N-62-S311^2021-11-01  Arriendo Inmueble Residencial\n",
       "71  A6N-13N-62-S312^2007-06-01  Arriendo Inmueble Residencial\n",
       "72  A6N-13N-62-S314^2019-06-01  Arriendo Inmueble Residencial\n",
       "\n",
       "[73 rows x 2 columns]"
      ]
     },
     "execution_count": 4,
     "metadata": {},
     "output_type": "execute_result"
    }
   ],
   "source": [
    "from scripts.utils import m2m_info\n",
    "\n",
    "load_dict = m2m_info['accountable_transaction_type']\n",
    "\n",
    "df_from_csv = pd.read_csv(join(BASE_DIR, f\"_files/{load_dict['csv_name']}\"), keep_default_na=False)\n",
    "df_from_csv"
   ]
  },
  {
   "cell_type": "code",
   "execution_count": 5,
   "id": "7ae206f5",
   "metadata": {},
   "outputs": [
    {
     "data": {
      "text/plain": [
       "<QuerySet [<Transaction: Arriendo Inmueble Comercial>, <Transaction: Arriendo Inmueble Residencial>]>"
      ]
     },
     "execution_count": 5,
     "metadata": {},
     "output_type": "execute_result"
    }
   ],
   "source": [
    "non_field_objs = load_dict['non_field_obj_model'].objects.filter(pk__in=list(df_from_csv[load_dict['non_field_obj_column']].unique()))\n",
    "non_field_objs"
   ]
  },
  {
   "cell_type": "code",
   "execution_count": 6,
   "id": "4f8190b8",
   "metadata": {},
   "outputs": [
    {
     "data": {
      "text/plain": [
       "<Accountable: C18-1N-41^2021-02-01>"
      ]
     },
     "execution_count": 6,
     "metadata": {},
     "output_type": "execute_result"
    }
   ],
   "source": [
    "objs_df = df_from_csv.assign(**{load_dict['field_obj_column']:df_from_csv[load_dict['field_obj_column']].apply(lambda x: load_dict['field_obj_model'].objects.get(pk=x))})\n",
    "objs_df.iloc[0]['accountable']"
   ]
  },
  {
   "cell_type": "code",
   "execution_count": 7,
   "id": "35a4017a",
   "metadata": {},
   "outputs": [
    {
     "data": {
      "text/plain": [
       "0     None\n",
       "1     None\n",
       "2     None\n",
       "3     None\n",
       "4     None\n",
       "      ... \n",
       "68    None\n",
       "69    None\n",
       "70    None\n",
       "71    None\n",
       "72    None\n",
       "Length: 73, dtype: object"
      ]
     },
     "execution_count": 7,
     "metadata": {},
     "output_type": "execute_result"
    }
   ],
   "source": [
    "objs_df.apply(lambda x: eval(f\"x[load_dict['field_obj_column']].{load_dict['m2m_field']}.add(non_field_objs.get(pk=x[load_dict['non_field_obj_column']]))\"), axis=1)"
   ]
  },
  {
   "cell_type": "code",
   "execution_count": 22,
   "id": "707ab953",
   "metadata": {},
   "outputs": [
    {
     "data": {
      "text/plain": [
       "'C18-1N-41^2021-02-01'"
      ]
     },
     "execution_count": 22,
     "metadata": {},
     "output_type": "execute_result"
    }
   ],
   "source": [
    "df_from_csv.iloc[0][load_dict['field_obj_column']]"
   ]
  }
 ],
 "metadata": {
  "kernelspec": {
   "display_name": "Django Shell-Plus",
   "language": "python",
   "name": "django_extensions"
  },
  "language_info": {
   "codemirror_mode": {
    "name": "ipython",
    "version": 3
   },
   "file_extension": ".py",
   "mimetype": "text/x-python",
   "name": "python",
   "nbconvert_exporter": "python",
   "pygments_lexer": "ipython3",
   "version": "3.9.7"
  }
 },
 "nbformat": 4,
 "nbformat_minor": 5
}
