{
 "cells": [
  {
   "cell_type": "code",
   "execution_count": 1,
   "id": "922c474e",
   "metadata": {},
   "outputs": [],
   "source": [
    "import os\n",
    "import csv\n",
    "import adin.settings as st\n",
    "from IPython.display import display\n",
    "from references.forms.address_forms import AddressCreateModelForm\n",
    "from os.path import join\n",
    "from adin.settings import BASE_DIR\n",
    "\n",
    "from scripts.utils import m2m_info, m2m_load, m2m_backup\n",
    "\n",
    "os.environ[\"DJANGO_ALLOW_ASYNC_UNSAFE\"] = \"true\""
   ]
  },
  {
   "cell_type": "code",
   "execution_count": 2,
   "id": "7d0b5293",
   "metadata": {},
   "outputs": [
    {
     "data": {
      "text/plain": [
       "<Transaction: Arriendo Inmueble Residencial>"
      ]
     },
     "execution_count": 2,
     "metadata": {},
     "output_type": "execute_result"
    }
   ],
   "source": [
    "obj = Accountable_Transaction_Type.objects.all()[0]\n",
    "obj"
   ]
  },
  {
   "cell_type": "code",
   "execution_count": 6,
   "id": "ec529bb9",
   "metadata": {},
   "outputs": [
    {
     "data": {
      "text/plain": [
       "[<Accountable: A6N-13N-66^2019-04-01>,\n",
       " <Accountable: A6N-13N-68^1999-01-01>,\n",
       " <Accountable: A6N-13N-62-S101^2021-04-01>,\n",
       " <Accountable: A6N-13N-62-S102^2021-10-01>,\n",
       " <Accountable: A6N-13N-62-S104^2021-08-01>,\n",
       " <Accountable: A6N-13N-62-S103^2020-06-01>,\n",
       " <Accountable: A6N-13N-62-S105^2021-09-01>,\n",
       " <Accountable: A6N-13N-62-S108^2016-12-01>,\n",
       " <Accountable: A6N-13N-62-S109^2021-07-01>,\n",
       " <Accountable: A6N-13N-62-S110^2021-09-01>,\n",
       " <Accountable: A6N-13N-62-S114^2021-09-01>,\n",
       " <Accountable: A6N-13N-62-S201^2021-10-01>,\n",
       " <Accountable: A6N-13N-62-S202^2021-10-01>,\n",
       " <Accountable: A6N-13N-62-S203^2022-04-01>,\n",
       " <Accountable: A6N-13N-62-S204^2021-09-01>,\n",
       " <Accountable: A6N-13N-62-S207^2004-03-01>,\n",
       " <Accountable: A6N-13N-62-S205^2020-08-01>,\n",
       " <Accountable: A6N-13N-62-S208^2020-10-01>,\n",
       " <Accountable: A6N-13N-62-S209^2006-03-21>,\n",
       " <Accountable: A6N-13N-62-S210^2017-03-20>,\n",
       " <Accountable: A6N-13N-62-S211^2017-03-20>,\n",
       " <Accountable: A6N-13N-62-S212^2011-09-01>,\n",
       " <Accountable: A6N-13N-62-S214^2018-10-01>,\n",
       " <Accountable: A6N-13N-62-S217^2018-12-01>,\n",
       " <Accountable: A6N-13N-62-S219^2004-02-09>,\n",
       " <Accountable: A6N-13N-62-S221^2018-06-15>,\n",
       " <Accountable: A6N-13N-62-S301^2021-08-01>,\n",
       " <Accountable: A6N-13N-62-S302^2021-08-01>,\n",
       " <Accountable: A6N-13N-62-S303^2022-03-01>,\n",
       " <Accountable: A6N-13N-62-S304^2022-04-01>,\n",
       " <Accountable: A6N-13N-62-S305^2021-02-01>,\n",
       " <Accountable: A6N-13N-62-S306^2018-06-01>,\n",
       " <Accountable: A6N-13N-62-S308^2022-03-01>,\n",
       " <Accountable: A6N-13N-62-S309^2022-03-01>,\n",
       " <Accountable: A6N-13N-62-S311^2021-11-01>,\n",
       " <Accountable: A6N-13N-62-S312^2007-06-01>,\n",
       " <Accountable: A6N-13N-62-S314^2019-06-01>]"
      ]
     },
     "execution_count": 6,
     "metadata": {},
     "output_type": "execute_result"
    }
   ],
   "source": [
    "objs = []\n",
    "for field in obj._meta._get_fields(forward=False, reverse=True, include_hidden=True):\n",
    "    if field.related_name and field.related_query_name: \n",
    "        for related in eval(f'obj.{field.related_name}.all()'):\n",
    "            objs.append(related)\n",
    "objs"
   ]
  }
 ],
 "metadata": {
  "kernelspec": {
   "display_name": "Django Shell-Plus",
   "language": "python",
   "name": "django_extensions"
  },
  "language_info": {
   "codemirror_mode": {
    "name": "ipython",
    "version": 3
   },
   "file_extension": ".py",
   "mimetype": "text/x-python",
   "name": "python",
   "nbconvert_exporter": "python",
   "pygments_lexer": "ipython3",
   "version": "3.9.7"
  }
 },
 "nbformat": 4,
 "nbformat_minor": 5
}
