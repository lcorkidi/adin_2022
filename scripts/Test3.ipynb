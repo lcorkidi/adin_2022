{
 "cells": [
  {
   "cell_type": "code",
   "execution_count": 1,
   "id": "922c474e",
   "metadata": {},
   "outputs": [],
   "source": [
    "import os\n",
    "import csv\n",
    "import adin.settings as st\n",
    "from IPython.display import display\n",
    "from references.forms.address_forms import AddressCreateModelForm\n",
    "from os.path import join\n",
    "from adin.settings import BASE_DIR\n",
    "\n",
    "from scripts.utils import m2m_info, m2m_load, m2m_backup\n",
    "\n",
    "os.environ[\"DJANGO_ALLOW_ASYNC_UNSAFE\"] = \"true\""
   ]
  },
  {
   "cell_type": "code",
   "execution_count": 2,
   "id": "7d0b5293",
   "metadata": {},
   "outputs": [
    {
     "data": {
      "text/plain": [
       "<Transaction: Arriendo Inmueble Residencial>"
      ]
     },
     "execution_count": 2,
     "metadata": {},
     "output_type": "execute_result"
    }
   ],
   "source": [
    "obj = Accountable_Transaction_Type.objects.all()[0]\n",
    "obj"
   ]
  },
  {
   "cell_type": "code",
   "execution_count": 6,
   "id": "ec529bb9",
   "metadata": {},
   "outputs": [
    {
     "data": {
      "text/plain": [
       "[<Accountable: A6N-13N-66^2019-04-01>,\n",
       " <Accountable: A6N-13N-68^1999-01-01>,\n",
       " <Accountable: A6N-13N-62-S101^2021-04-01>,\n",
       " <Accountable: A6N-13N-62-S102^2021-10-01>,\n",
       " <Accountable: A6N-13N-62-S104^2021-08-01>,\n",
       " <Accountable: A6N-13N-62-S103^2020-06-01>,\n",
       " <Accountable: A6N-13N-62-S105^2021-09-01>,\n",
       " <Accountable: A6N-13N-62-S108^2016-12-01>,\n",
       " <Accountable: A6N-13N-62-S109^2021-07-01>,\n",
       " <Accountable: A6N-13N-62-S110^2021-09-01>,\n",
       " <Accountable: A6N-13N-62-S114^2021-09-01>,\n",
       " <Accountable: A6N-13N-62-S201^2021-10-01>,\n",
       " <Accountable: A6N-13N-62-S202^2021-10-01>,\n",
       " <Accountable: A6N-13N-62-S203^2022-04-01>,\n",
       " <Accountable: A6N-13N-62-S204^2021-09-01>,\n",
       " <Accountable: A6N-13N-62-S207^2004-03-01>,\n",
       " <Accountable: A6N-13N-62-S205^2020-08-01>,\n",
       " <Accountable: A6N-13N-62-S208^2020-10-01>,\n",
       " <Accountable: A6N-13N-62-S209^2006-03-21>,\n",
       " <Accountable: A6N-13N-62-S210^2017-03-20>,\n",
       " <Accountable: A6N-13N-62-S211^2017-03-20>,\n",
       " <Accountable: A6N-13N-62-S212^2011-09-01>,\n",
       " <Accountable: A6N-13N-62-S214^2018-10-01>,\n",
       " <Accountable: A6N-13N-62-S217^2018-12-01>,\n",
       " <Accountable: A6N-13N-62-S219^2004-02-09>,\n",
       " <Accountable: A6N-13N-62-S221^2018-06-15>,\n",
       " <Accountable: A6N-13N-62-S301^2021-08-01>,\n",
       " <Accountable: A6N-13N-62-S302^2021-08-01>,\n",
       " <Accountable: A6N-13N-62-S303^2022-03-01>,\n",
       " <Accountable: A6N-13N-62-S304^2022-04-01>,\n",
       " <Accountable: A6N-13N-62-S305^2021-02-01>,\n",
       " <Accountable: A6N-13N-62-S306^2018-06-01>,\n",
       " <Accountable: A6N-13N-62-S308^2022-03-01>,\n",
       " <Accountable: A6N-13N-62-S309^2022-03-01>,\n",
       " <Accountable: A6N-13N-62-S311^2021-11-01>,\n",
       " <Accountable: A6N-13N-62-S312^2007-06-01>,\n",
       " <Accountable: A6N-13N-62-S314^2019-06-01>]"
      ]
     },
     "execution_count": 6,
     "metadata": {},
     "output_type": "execute_result"
    }
   ],
   "source": [
    "objs = []\n",
    "for field in obj._meta._get_fields(forward=False, reverse=True, include_hidden=True):\n",
    "    if field.related_name and field.related_query_name: \n",
    "        for related in eval(f'obj.{field.related_name}.all()'):\n",
    "            objs.append(related)\n",
    "objs"
   ]
  },
  {
   "cell_type": "code",
   "execution_count": 3,
   "id": "4e421587",
   "metadata": {},
   "outputs": [
    {
     "data": {
      "text/plain": [
       "<ContentType: accountables | Arriendo Inmueble>"
      ]
     },
     "execution_count": 3,
     "metadata": {},
     "output_type": "execute_result"
    }
   ],
   "source": [
    "ct=ContentType.objects.all()[32]\n",
    "ct"
   ]
  },
  {
   "cell_type": "code",
   "execution_count": 4,
   "id": "1610495e",
   "metadata": {},
   "outputs": [
    {
     "data": {
      "text/plain": [
       "['DoesNotExist',\n",
       " 'MultipleObjectsReturned',\n",
       " '__class__',\n",
       " '__delattr__',\n",
       " '__dict__',\n",
       " '__dir__',\n",
       " '__doc__',\n",
       " '__eq__',\n",
       " '__format__',\n",
       " '__ge__',\n",
       " '__getattribute__',\n",
       " '__getstate__',\n",
       " '__gt__',\n",
       " '__hash__',\n",
       " '__init__',\n",
       " '__init_subclass__',\n",
       " '__le__',\n",
       " '__lt__',\n",
       " '__module__',\n",
       " '__ne__',\n",
       " '__new__',\n",
       " '__reduce__',\n",
       " '__reduce_ex__',\n",
       " '__repr__',\n",
       " '__setattr__',\n",
       " '__setstate__',\n",
       " '__sizeof__',\n",
       " '__str__',\n",
       " '__subclasshook__',\n",
       " '__weakref__',\n",
       " '_check_column_name_clashes',\n",
       " '_check_constraints',\n",
       " '_check_default_pk',\n",
       " '_check_field_name_clashes',\n",
       " '_check_fields',\n",
       " '_check_id_field',\n",
       " '_check_index_together',\n",
       " '_check_indexes',\n",
       " '_check_local_fields',\n",
       " '_check_long_column_names',\n",
       " '_check_m2m_through_same_relationship',\n",
       " '_check_managers',\n",
       " '_check_model',\n",
       " '_check_model_name_db_lookup_clashes',\n",
       " '_check_ordering',\n",
       " '_check_property_name_related_field_accessor_clashes',\n",
       " '_check_single_primary_key',\n",
       " '_check_swappable',\n",
       " '_check_unique_together',\n",
       " '_do_insert',\n",
       " '_do_update',\n",
       " '_get_FIELD_display',\n",
       " '_get_expr_references',\n",
       " '_get_next_or_previous_by_FIELD',\n",
       " '_get_next_or_previous_in_order',\n",
       " '_get_pk_val',\n",
       " '_get_unique_checks',\n",
       " '_meta',\n",
       " '_perform_date_checks',\n",
       " '_perform_unique_checks',\n",
       " '_prepare_related_fields_for_save',\n",
       " '_save_parents',\n",
       " '_save_table',\n",
       " '_set_pk_val',\n",
       " '_state',\n",
       " 'accountable_set',\n",
       " 'app_label',\n",
       " 'app_labeled_name',\n",
       " 'check',\n",
       " 'clean',\n",
       " 'clean_fields',\n",
       " 'date_error_message',\n",
       " 'delete',\n",
       " 'from_db',\n",
       " 'full_clean',\n",
       " 'get_all_objects_for_this_type',\n",
       " 'get_deferred_fields',\n",
       " 'get_object_for_this_type',\n",
       " 'id',\n",
       " 'ledger_template_set',\n",
       " 'logentry_set',\n",
       " 'model',\n",
       " 'model_class',\n",
       " 'name',\n",
       " 'natural_key',\n",
       " 'objects',\n",
       " 'permission_set',\n",
       " 'pk',\n",
       " 'prepare_database_save',\n",
       " 'refresh_from_db',\n",
       " 'save',\n",
       " 'save_base',\n",
       " 'serializable_value',\n",
       " 'unique_error_message',\n",
       " 'validate_unique']"
      ]
     },
     "execution_count": 4,
     "metadata": {},
     "output_type": "execute_result"
    }
   ],
   "source": [
    "dir(ct)"
   ]
  },
  {
   "cell_type": "code",
   "execution_count": 5,
   "id": "abd8c4ad",
   "metadata": {},
   "outputs": [
    {
     "data": {
      "text/plain": [
       "'Arriendo Inmueble'"
      ]
     },
     "execution_count": 5,
     "metadata": {},
     "output_type": "execute_result"
    }
   ],
   "source": [
    "ct.name"
   ]
  },
  {
   "cell_type": "code",
   "execution_count": null,
   "id": "57be1ce4",
   "metadata": {},
   "outputs": [],
   "source": []
  }
 ],
 "metadata": {
  "kernelspec": {
   "display_name": "Django Shell-Plus",
   "language": "python",
   "name": "django_extensions"
  },
  "language_info": {
   "codemirror_mode": {
    "name": "ipython",
    "version": 3
   },
   "file_extension": ".py",
   "mimetype": "text/x-python",
   "name": "python",
   "nbconvert_exporter": "python",
   "pygments_lexer": "ipython3",
   "version": "3.9.7"
  }
 },
 "nbformat": 4,
 "nbformat_minor": 5
}
