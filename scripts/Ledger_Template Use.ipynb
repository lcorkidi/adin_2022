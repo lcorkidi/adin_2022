{
 "cells": [
  {
   "cell_type": "code",
   "execution_count": 2,
   "id": "968402c3",
   "metadata": {},
   "outputs": [],
   "source": [
    "import os\n",
    "\n",
    "os.environ[\"DJANGO_ALLOW_ASYNC_UNSAFE\"] = \"true\"\n",
    "\n",
    "pd.set_option('display.max_rows', 500)"
   ]
  },
  {
   "cell_type": "code",
   "execution_count": 3,
   "id": "4418e189",
   "metadata": {},
   "outputs": [
    {
     "data": {
      "text/plain": [
       "<Ledger_Template: FV^Arriendo Inmueble_Facturacion Arriendo sin IVA>"
      ]
     },
     "execution_count": 3,
     "metadata": {},
     "output_type": "execute_result"
    }
   ],
   "source": [
    "lt=Ledger_Template.objects.all()[0]\n",
    "lt"
   ]
  },
  {
   "cell_type": "code",
   "execution_count": 20,
   "id": "1d205c4c",
   "metadata": {},
   "outputs": [
    {
     "data": {
      "text/plain": [
       "['FORWARD_PROPERTIES',\n",
       " 'REVERSE_PROPERTIES',\n",
       " '__class__',\n",
       " '__delattr__',\n",
       " '__dict__',\n",
       " '__dir__',\n",
       " '__doc__',\n",
       " '__eq__',\n",
       " '__format__',\n",
       " '__ge__',\n",
       " '__getattribute__',\n",
       " '__gt__',\n",
       " '__hash__',\n",
       " '__init__',\n",
       " '__init_subclass__',\n",
       " '__le__',\n",
       " '__lt__',\n",
       " '__module__',\n",
       " '__ne__',\n",
       " '__new__',\n",
       " '__reduce__',\n",
       " '__reduce_ex__',\n",
       " '__repr__',\n",
       " '__setattr__',\n",
       " '__sizeof__',\n",
       " '__str__',\n",
       " '__subclasshook__',\n",
       " '__weakref__',\n",
       " '_expire_cache',\n",
       " '_format_names_with_class',\n",
       " '_forward_fields_map',\n",
       " '_get_default_pk_class',\n",
       " '_get_fields',\n",
       " '_get_fields_cache',\n",
       " '_ordering_clash',\n",
       " '_populate_directed_relation_graph',\n",
       " '_prepare',\n",
       " '_property_names',\n",
       " '_relation_tree',\n",
       " 'abstract',\n",
       " 'add_field',\n",
       " 'add_manager',\n",
       " 'app_config',\n",
       " 'app_label',\n",
       " 'apps',\n",
       " 'auto_created',\n",
       " 'auto_field',\n",
       " 'base_manager',\n",
       " 'base_manager_name',\n",
       " 'can_migrate',\n",
       " 'concrete_fields',\n",
       " 'concrete_model',\n",
       " 'constraints',\n",
       " 'contribute_to_class',\n",
       " 'db_returning_fields',\n",
       " 'db_table',\n",
       " 'db_tablespace',\n",
       " 'default_apps',\n",
       " 'default_manager',\n",
       " 'default_manager_name',\n",
       " 'default_permissions',\n",
       " 'default_related_name',\n",
       " 'fields',\n",
       " 'fields_map',\n",
       " 'get_ancestor_link',\n",
       " 'get_base_chain',\n",
       " 'get_field',\n",
       " 'get_fields',\n",
       " 'get_latest_by',\n",
       " 'get_parent_list',\n",
       " 'get_path_from_parent',\n",
       " 'get_path_to_parent',\n",
       " 'index_together',\n",
       " 'indexes',\n",
       " 'installed',\n",
       " 'label',\n",
       " 'label_lower',\n",
       " 'local_concrete_fields',\n",
       " 'local_fields',\n",
       " 'local_managers',\n",
       " 'local_many_to_many',\n",
       " 'managed',\n",
       " 'managers',\n",
       " 'managers_map',\n",
       " 'many_to_many',\n",
       " 'model',\n",
       " 'model_name',\n",
       " 'object_name',\n",
       " 'order_with_respect_to',\n",
       " 'ordering',\n",
       " 'original_attrs',\n",
       " 'parents',\n",
       " 'permissions',\n",
       " 'pk',\n",
       " 'private_fields',\n",
       " 'proxy',\n",
       " 'proxy_for_model',\n",
       " 'related_fkey_lookups',\n",
       " 'related_objects',\n",
       " 'required_db_features',\n",
       " 'required_db_vendor',\n",
       " 'select_on_save',\n",
       " 'setup_pk',\n",
       " 'setup_proxy',\n",
       " 'swappable',\n",
       " 'swapped',\n",
       " 'total_unique_constraints',\n",
       " 'unique_together',\n",
       " 'verbose_name',\n",
       " 'verbose_name_plural',\n",
       " 'verbose_name_raw']"
      ]
     },
     "execution_count": 20,
     "metadata": {},
     "output_type": "execute_result"
    }
   ],
   "source": [
    "dir(lt.accountable_class._meta)"
   ]
  },
  {
   "cell_type": "code",
   "execution_count": 30,
   "id": "0ecd500c",
   "metadata": {},
   "outputs": [
    {
     "data": {
      "text/plain": [
       "<QuerySet ['A6N-13N-62-O1^2015-01-01', 'A6N-13N-62-S101^2021-04-01', 'A6N-13N-62-S102^2021-10-01', 'A6N-13N-62-S103^2020-06-01', 'A6N-13N-62-S103^2022-05-01', 'A6N-13N-62-S104^2021-08-01', 'A6N-13N-62-S105^2021-09-01', 'A6N-13N-62-S108^2016-12-01', 'A6N-13N-62-S109^2021-07-01', 'A6N-13N-62-S110^2021-09-01', 'A6N-13N-62-S111^2021-04-01', 'A6N-13N-62-S111^2022-07-01', 'A6N-13N-62-S112^2015-04-01', 'A6N-13N-62-S114^2021-09-01', 'A6N-13N-62-S201^2021-10-01', 'A6N-13N-62-S202^2021-10-01', 'A6N-13N-62-S203^2020-10-01', 'A6N-13N-62-S203^2022-04-01', 'A6N-13N-62-S204^2021-09-01', 'A6N-13N-62-S205^2020-08-01', '...(remaining elements truncated)...']>"
      ]
     },
     "execution_count": 30,
     "metadata": {},
     "output_type": "execute_result"
    }
   ],
   "source": [
    "objs_list=lt.accountable_class.model_class().active.values_list('code', flat=True)\n",
    "objs_list"
   ]
  },
  {
   "cell_type": "code",
   "execution_count": 31,
   "id": "186dbfed",
   "metadata": {},
   "outputs": [
    {
     "data": {
      "text/plain": [
       "<QuerySet [<Accountable: A6N-13N-62-O1^2015-01-01>, <Accountable: A6N-13N-62-S101^2021-04-01>, <Accountable: A6N-13N-62-S102^2021-10-01>, <Accountable: A6N-13N-62-S103^2020-06-01>, <Accountable: A6N-13N-62-S103^2022-05-01>, <Accountable: A6N-13N-62-S104^2021-08-01>, <Accountable: A6N-13N-62-S105^2021-09-01>, <Accountable: A6N-13N-62-S108^2016-12-01>, <Accountable: A6N-13N-62-S109^2021-07-01>, <Accountable: A6N-13N-62-S110^2021-09-01>, <Accountable: A6N-13N-62-S111^2021-04-01>, <Accountable: A6N-13N-62-S111^2022-07-01>, <Accountable: A6N-13N-62-S112^2015-04-01>, <Accountable: A6N-13N-62-S114^2021-09-01>, <Accountable: A6N-13N-62-S201^2021-10-01>, <Accountable: A6N-13N-62-S202^2021-10-01>, <Accountable: A6N-13N-62-S202^2022-10-01>, <Accountable: A6N-13N-62-S203^2020-10-01>, <Accountable: A6N-13N-62-S203^2022-04-01>, <Accountable: A6N-13N-62-S204^2021-09-01>, '...(remaining elements truncated)...']>"
      ]
     },
     "execution_count": 31,
     "metadata": {},
     "output_type": "execute_result"
    }
   ],
   "source": [
    "lt.accountable_class.model_class().__bases__[0].objects.filter(code__in=objs_list)"
   ]
  },
  {
   "cell_type": "code",
   "execution_count": 35,
   "id": "68596d28",
   "metadata": {},
   "outputs": [
    {
     "data": {
      "text/plain": [
       "<Accountable: A6N-13N-62-O1^2015-01-01>"
      ]
     },
     "execution_count": 35,
     "metadata": {},
     "output_type": "execute_result"
    }
   ],
   "source": [
    "acc=Accountable.objects.all()[0]\n",
    "acc"
   ]
  },
  {
   "cell_type": "code",
   "execution_count": 36,
   "id": "b8b98b59",
   "metadata": {},
   "outputs": [
    {
     "data": {
      "text/plain": [
       "<QuerySet [<Transaction_Concept: Facturacion Arriendo sin IVA^2022-01-01_A6N-13N-62-O1^2015-01-01>, <Transaction_Concept: Facturacion Arriendo sin IVA^2022-02-01_A6N-13N-62-O1^2015-01-01>, <Transaction_Concept: Facturacion Arriendo sin IVA^2022-03-01_A6N-13N-62-O1^2015-01-01>, <Transaction_Concept: Facturacion Arriendo sin IVA^2022-04-01_A6N-13N-62-O1^2015-01-01>, <Transaction_Concept: Facturacion Arriendo sin IVA^2022-05-01_A6N-13N-62-O1^2015-01-01>, <Transaction_Concept: Facturacion Arriendo sin IVA^2022-06-01_A6N-13N-62-O1^2015-01-01>, <Transaction_Concept: Facturacion Arriendo sin IVA^2022-07-01_A6N-13N-62-O1^2015-01-01>, <Transaction_Concept: Facturacion Arriendo sin IVA^2022-08-01_A6N-13N-62-O1^2015-01-01>, <Transaction_Concept: Facturacion Arriendo sin IVA^2022-09-01_A6N-13N-62-O1^2015-01-01>, <Transaction_Concept: Facturacion Arriendo sin IVA^2022-10-01_A6N-13N-62-O1^2015-01-01>]>"
      ]
     },
     "execution_count": 36,
     "metadata": {},
     "output_type": "execute_result"
    }
   ],
   "source": [
    "acc.accountable_concept.all()"
   ]
  },
  {
   "cell_type": "code",
   "execution_count": null,
   "id": "299ea54b",
   "metadata": {},
   "outputs": [],
   "source": []
  }
 ],
 "metadata": {
  "kernelspec": {
   "display_name": "Django Shell-Plus",
   "language": "python",
   "name": "django_extensions"
  },
  "language_info": {
   "codemirror_mode": {
    "name": "ipython",
    "version": 3
   },
   "file_extension": ".py",
   "mimetype": "text/x-python",
   "name": "python",
   "nbconvert_exporter": "python",
   "pygments_lexer": "ipython3",
   "version": "3.9.7"
  }
 },
 "nbformat": 4,
 "nbformat_minor": 5
}
