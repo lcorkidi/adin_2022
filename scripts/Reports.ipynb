{
 "cells": [
  {
   "cell_type": "code",
   "execution_count": 1,
   "id": "c9ea0d33",
   "metadata": {},
   "outputs": [],
   "source": [
    "import os\n",
    "from os.path import join\n",
    "from adin.settings import BASE_DIR\n",
    "\n",
    "os.environ[\"DJANGO_ALLOW_ASYNC_UNSAFE\"] = \"true\""
   ]
  },
  {
   "cell_type": "code",
   "execution_count": 5,
   "id": "5ed0e21f",
   "metadata": {},
   "outputs": [],
   "source": [
    "df=pd.DataFrame(Lease_Realty.objects.values('pk', 'doc_date'))"
   ]
  },
  {
   "cell_type": "code",
   "execution_count": 24,
   "id": "9f8b5240",
   "metadata": {},
   "outputs": [],
   "source": [
    "df.assign(dates=df.pk.apply(lambda x: [f'{date.strftime(\"%Y-%m-%d\")}' for date in Lease_Realty.objects.get(pk=x).pending_date_values()]))\\\n",
    "    .to_csv(join(BASE_DIR, f'_files/reports/{datetime.date.today().strftime(\"%Y-%m-%d\")}_pending_date_values.csv'), index=False)"
   ]
  },
  {
   "cell_type": "code",
   "execution_count": 6,
   "id": "7f85ef7d",
   "metadata": {},
   "outputs": [
    {
     "data": {
      "text/html": [
       "<div>\n",
       "<style scoped>\n",
       "    .dataframe tbody tr th:only-of-type {\n",
       "        vertical-align: middle;\n",
       "    }\n",
       "\n",
       "    .dataframe tbody tr th {\n",
       "        vertical-align: top;\n",
       "    }\n",
       "\n",
       "    .dataframe thead th {\n",
       "        text-align: right;\n",
       "    }\n",
       "</style>\n",
       "<table border=\"1\" class=\"dataframe\">\n",
       "  <thead>\n",
       "    <tr style=\"text-align: right;\">\n",
       "      <th></th>\n",
       "      <th>pk</th>\n",
       "      <th>doc_date</th>\n",
       "      <th>dates</th>\n",
       "    </tr>\n",
       "  </thead>\n",
       "  <tbody>\n",
       "    <tr>\n",
       "      <th>0</th>\n",
       "      <td>C18-1N-41^2021-02-01</td>\n",
       "      <td>2021-02-01</td>\n",
       "      <td>[2022-02-01]</td>\n",
       "    </tr>\n",
       "    <tr>\n",
       "      <th>1</th>\n",
       "      <td>K1-17-43^2017-07-15</td>\n",
       "      <td>2017-07-15</td>\n",
       "      <td>[2018-07-15, 2019-07-15, 2020-07-15, 2021-07-15]</td>\n",
       "    </tr>\n",
       "    <tr>\n",
       "      <th>2</th>\n",
       "      <td>K1-17-37^2012-02-01</td>\n",
       "      <td>2012-02-01</td>\n",
       "      <td>[2013-02-01, 2014-02-01, 2015-02-01, 2016-02-0...</td>\n",
       "    </tr>\n",
       "    <tr>\n",
       "      <th>3</th>\n",
       "      <td>C18-1N-39^2022-03-01</td>\n",
       "      <td>2022-03-01</td>\n",
       "      <td>[]</td>\n",
       "    </tr>\n",
       "    <tr>\n",
       "      <th>4</th>\n",
       "      <td>C18-1N-33^2021-10-01</td>\n",
       "      <td>2021-10-01</td>\n",
       "      <td>[]</td>\n",
       "    </tr>\n",
       "    <tr>\n",
       "      <th>...</th>\n",
       "      <td>...</td>\n",
       "      <td>...</td>\n",
       "      <td>...</td>\n",
       "    </tr>\n",
       "    <tr>\n",
       "      <th>68</th>\n",
       "      <td>A6N-13N-62-S308^2022-03-01</td>\n",
       "      <td>2022-03-01</td>\n",
       "      <td>[]</td>\n",
       "    </tr>\n",
       "    <tr>\n",
       "      <th>69</th>\n",
       "      <td>A6N-13N-62-S309^2022-03-01</td>\n",
       "      <td>2022-03-01</td>\n",
       "      <td>[]</td>\n",
       "    </tr>\n",
       "    <tr>\n",
       "      <th>70</th>\n",
       "      <td>A6N-13N-62-S311^2021-11-01</td>\n",
       "      <td>2021-11-01</td>\n",
       "      <td>[]</td>\n",
       "    </tr>\n",
       "    <tr>\n",
       "      <th>71</th>\n",
       "      <td>A6N-13N-62-S312^2007-06-01</td>\n",
       "      <td>2007-06-01</td>\n",
       "      <td>[2008-06-01, 2009-06-01, 2010-06-01, 2011-06-0...</td>\n",
       "    </tr>\n",
       "    <tr>\n",
       "      <th>72</th>\n",
       "      <td>A6N-13N-62-S314^2019-06-01</td>\n",
       "      <td>2019-06-01</td>\n",
       "      <td>[2020-06-01, 2021-06-01, 2022-06-01]</td>\n",
       "    </tr>\n",
       "  </tbody>\n",
       "</table>\n",
       "<p>73 rows × 3 columns</p>\n",
       "</div>"
      ],
      "text/plain": [
       "                            pk    doc_date  \\\n",
       "0         C18-1N-41^2021-02-01  2021-02-01   \n",
       "1          K1-17-43^2017-07-15  2017-07-15   \n",
       "2          K1-17-37^2012-02-01  2012-02-01   \n",
       "3         C18-1N-39^2022-03-01  2022-03-01   \n",
       "4         C18-1N-33^2021-10-01  2021-10-01   \n",
       "..                         ...         ...   \n",
       "68  A6N-13N-62-S308^2022-03-01  2022-03-01   \n",
       "69  A6N-13N-62-S309^2022-03-01  2022-03-01   \n",
       "70  A6N-13N-62-S311^2021-11-01  2021-11-01   \n",
       "71  A6N-13N-62-S312^2007-06-01  2007-06-01   \n",
       "72  A6N-13N-62-S314^2019-06-01  2019-06-01   \n",
       "\n",
       "                                                dates  \n",
       "0                                        [2022-02-01]  \n",
       "1    [2018-07-15, 2019-07-15, 2020-07-15, 2021-07-15]  \n",
       "2   [2013-02-01, 2014-02-01, 2015-02-01, 2016-02-0...  \n",
       "3                                                  []  \n",
       "4                                                  []  \n",
       "..                                                ...  \n",
       "68                                                 []  \n",
       "69                                                 []  \n",
       "70                                                 []  \n",
       "71  [2008-06-01, 2009-06-01, 2010-06-01, 2011-06-0...  \n",
       "72               [2020-06-01, 2021-06-01, 2022-06-01]  \n",
       "\n",
       "[73 rows x 3 columns]"
      ]
     },
     "execution_count": 6,
     "metadata": {},
     "output_type": "execute_result"
    }
   ],
   "source": [
    "df.assign(dates=df.pk.apply(lambda x: Lease_Realty.objects.get(pk=x).pending_date_values()))"
   ]
  },
  {
   "cell_type": "code",
   "execution_count": 13,
   "id": "93816897",
   "metadata": {},
   "outputs": [
    {
     "data": {
      "text/plain": [
       "'None'"
      ]
     },
     "execution_count": 13,
     "metadata": {},
     "output_type": "execute_result"
    }
   ],
   "source": [
    "lr=Lease_Realty.objects.all()[0]\n",
    "lr.lease_realty_person_set.get(role=1) if lr.lease_realty_person_set.filter(role=1).exists() and lr.lease_realty_person_set.filter(role=1).count()==1 else \"None\""
   ]
  },
  {
   "cell_type": "code",
   "execution_count": 29,
   "id": "fbded50e",
   "metadata": {},
   "outputs": [],
   "source": [
    "dvs=Lease_Realty.objects.all()[3].pending_date_values()\n",
    "for dv in dvs:\n",
    "    print(dv.year)"
   ]
  },
  {
   "cell_type": "code",
   "execution_count": 8,
   "id": "9a2d48e2",
   "metadata": {},
   "outputs": [
    {
     "data": {
      "text/html": [
       "<div>\n",
       "<style scoped>\n",
       "    .dataframe tbody tr th:only-of-type {\n",
       "        vertical-align: middle;\n",
       "    }\n",
       "\n",
       "    .dataframe tbody tr th {\n",
       "        vertical-align: top;\n",
       "    }\n",
       "\n",
       "    .dataframe thead th {\n",
       "        text-align: right;\n",
       "    }\n",
       "</style>\n",
       "<table border=\"1\" class=\"dataframe\">\n",
       "  <thead>\n",
       "    <tr style=\"text-align: right;\">\n",
       "      <th></th>\n",
       "      <th>pk</th>\n",
       "      <th>dates</th>\n",
       "    </tr>\n",
       "  </thead>\n",
       "  <tbody>\n",
       "    <tr>\n",
       "      <th>0</th>\n",
       "      <td>A6N-13N-62-S101^2021-04-01</td>\n",
       "      <td>43</td>\n",
       "    </tr>\n",
       "    <tr>\n",
       "      <th>1</th>\n",
       "      <td>A6N-13N-62-S102^2021-10-01</td>\n",
       "      <td>44</td>\n",
       "    </tr>\n",
       "    <tr>\n",
       "      <th>2</th>\n",
       "      <td>A6N-13N-62-S103^2020-06-01</td>\n",
       "      <td>46</td>\n",
       "    </tr>\n",
       "    <tr>\n",
       "      <th>3</th>\n",
       "      <td>A6N-13N-62-S104^2021-08-01</td>\n",
       "      <td>45</td>\n",
       "    </tr>\n",
       "    <tr>\n",
       "      <th>4</th>\n",
       "      <td>A6N-13N-62-S105^2021-09-01</td>\n",
       "      <td>47</td>\n",
       "    </tr>\n",
       "    <tr>\n",
       "      <th>...</th>\n",
       "      <td>...</td>\n",
       "      <td>...</td>\n",
       "    </tr>\n",
       "    <tr>\n",
       "      <th>68</th>\n",
       "      <td>K2C-30-15-B2^2019-07-01</td>\n",
       "      <td>21</td>\n",
       "    </tr>\n",
       "    <tr>\n",
       "      <th>69</th>\n",
       "      <td>K2C-30-15-B3^2013-06-01</td>\n",
       "      <td>49</td>\n",
       "    </tr>\n",
       "    <tr>\n",
       "      <th>70</th>\n",
       "      <td>K2C-30-27^2020-10-01</td>\n",
       "      <td>27</td>\n",
       "    </tr>\n",
       "    <tr>\n",
       "      <th>71</th>\n",
       "      <td>K2C-30-29^2019-11-01</td>\n",
       "      <td>26</td>\n",
       "    </tr>\n",
       "    <tr>\n",
       "      <th>72</th>\n",
       "      <td>K2C-30-51^2021-12-01</td>\n",
       "      <td>33</td>\n",
       "    </tr>\n",
       "  </tbody>\n",
       "</table>\n",
       "<p>73 rows × 2 columns</p>\n",
       "</div>"
      ],
      "text/plain": [
       "                            pk  dates\n",
       "0   A6N-13N-62-S101^2021-04-01     43\n",
       "1   A6N-13N-62-S102^2021-10-01     44\n",
       "2   A6N-13N-62-S103^2020-06-01     46\n",
       "3   A6N-13N-62-S104^2021-08-01     45\n",
       "4   A6N-13N-62-S105^2021-09-01     47\n",
       "..                         ...    ...\n",
       "68     K2C-30-15-B2^2019-07-01     21\n",
       "69     K2C-30-15-B3^2013-06-01     49\n",
       "70        K2C-30-27^2020-10-01     27\n",
       "71        K2C-30-29^2019-11-01     26\n",
       "72        K2C-30-51^2021-12-01     33\n",
       "\n",
       "[73 rows x 2 columns]"
      ]
     },
     "execution_count": 8,
     "metadata": {},
     "output_type": "execute_result"
    }
   ],
   "source": [
    "df2=pd.DataFrame(Lease_Realty.objects.annotate(dates=F('dates_values')).values('pk', 'dates'))\n",
    "df2"
   ]
  },
  {
   "cell_type": "code",
   "execution_count": 10,
   "id": "01924348",
   "metadata": {},
   "outputs": [],
   "source": [
    "Address(\n",
    "    state_change_user=User.objects.all()[0],\n",
    "    code='123456789012345678901234567890123',\n",
    "    street_type=0,\n",
    "    street_number=1,\n",
    "    numeral_number=1,\n",
    "    height_number=1\n",
    ").save()"
   ]
  },
  {
   "cell_type": "code",
   "execution_count": 2,
   "id": "65fc47eb",
   "metadata": {},
   "outputs": [
    {
     "data": {
      "text/plain": [
       "<Addresss: 123456789012345678901234567890123, >"
      ]
     },
     "execution_count": 2,
     "metadata": {},
     "output_type": "execute_result"
    }
   ],
   "source": [
    "add=Address.objects.get(pk='123456789012345678901234567890123')\n",
    "add"
   ]
  },
  {
   "cell_type": "code",
   "execution_count": 15,
   "id": "3b4070b9",
   "metadata": {},
   "outputs": [
    {
     "data": {
      "text/plain": [
       "33"
      ]
     },
     "execution_count": 15,
     "metadata": {},
     "output_type": "execute_result"
    }
   ],
   "source": [
    "len(add.code)"
   ]
  },
  {
   "cell_type": "code",
   "execution_count": 18,
   "id": "200c670b",
   "metadata": {},
   "outputs": [],
   "source": [
    "add.street_type=1\n",
    "add.save()"
   ]
  },
  {
   "cell_type": "code",
   "execution_count": 3,
   "id": "ab194b64",
   "metadata": {},
   "outputs": [
    {
     "data": {
      "text/plain": [
       "[46]"
      ]
     },
     "execution_count": 3,
     "metadata": {},
     "output_type": "execute_result"
    }
   ],
   "source": [
    "add.get_obj_errors()"
   ]
  },
  {
   "cell_type": "code",
   "execution_count": 10,
   "id": "cbb43a84",
   "metadata": {},
   "outputs": [
    {
     "data": {
      "text/plain": [
       "[0, 1, 2, 3, 4, 5, 6, 7]"
      ]
     },
     "execution_count": 10,
     "metadata": {},
     "output_type": "execute_result"
    }
   ],
   "source": [
    "[x for x in range(0,len(add.STREET_TYPE_CHOICE))]"
   ]
  }
 ],
 "metadata": {
  "kernelspec": {
   "display_name": "Django Shell-Plus",
   "language": "python",
   "name": "django_extensions"
  },
  "language_info": {
   "codemirror_mode": {
    "name": "ipython",
    "version": 3
   },
   "file_extension": ".py",
   "mimetype": "text/x-python",
   "name": "python",
   "nbconvert_exporter": "python",
   "pygments_lexer": "ipython3",
   "version": "3.9.7"
  }
 },
 "nbformat": 4,
 "nbformat_minor": 5
}
