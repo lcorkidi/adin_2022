{
 "cells": [
  {
   "cell_type": "code",
   "execution_count": 4,
   "id": "c9ea0d33",
   "metadata": {},
   "outputs": [],
   "source": [
    "import os\n",
    "from os.path import join\n",
    "from adin.settings import BASE_DIR\n",
    "\n",
    "os.environ[\"DJANGO_ALLOW_ASYNC_UNSAFE\"] = \"true\""
   ]
  },
  {
   "cell_type": "code",
   "execution_count": 5,
   "id": "027aa3d4",
   "metadata": {},
   "outputs": [
    {
     "data": {
      "text/plain": [
       "<Lease_Realty: C18-1N-41^2021-02-01>"
      ]
     },
     "execution_count": 5,
     "metadata": {},
     "output_type": "execute_result"
    }
   ],
   "source": [
    "lr=Lease_Realty.objects.all()[0]\n",
    "lr"
   ]
  },
  {
   "cell_type": "code",
   "execution_count": 6,
   "id": "c999e3a0",
   "metadata": {},
   "outputs": [
    {
     "data": {
      "text/plain": [
       "[datetime.date(2022, 2, 1)]"
      ]
     },
     "execution_count": 6,
     "metadata": {},
     "output_type": "execute_result"
    }
   ],
   "source": [
    "lr.pending_date_values()"
   ]
  },
  {
   "cell_type": "code",
   "execution_count": 9,
   "id": "5ed0e21f",
   "metadata": {},
   "outputs": [],
   "source": [
    "df=pd.DataFrame(Lease_Realty.objects.values('pk'))\n",
    "df.assign(instance=df.pk.apply(lambda x: Lease_Realty.objects.get(pk=x).pending_date_values()))\\\n",
    "    .to_csv(join(BASE_DIR, f'_files/reports/{datetime.date.today().strftime(\"%Y-%m-%d\")}_pending_date_values.csv'), index=False)"
   ]
  }
 ],
 "metadata": {
  "kernelspec": {
   "display_name": "Django Shell-Plus",
   "language": "python",
   "name": "django_extensions"
  },
  "language_info": {
   "codemirror_mode": {
    "name": "ipython",
    "version": 3
   },
   "file_extension": ".py",
   "mimetype": "text/x-python",
   "name": "python",
   "nbconvert_exporter": "python",
   "pygments_lexer": "ipython3",
   "version": "3.9.7"
  }
 },
 "nbformat": 4,
 "nbformat_minor": 5
}
