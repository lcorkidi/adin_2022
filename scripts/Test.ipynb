{
 "cells": [
  {
   "cell_type": "code",
   "execution_count": 8,
   "id": "9020db64",
   "metadata": {},
   "outputs": [],
   "source": [
    "import os\n",
    "import adin.settings as st\n",
    "from IPython.display import display\n",
    "\n",
    "jpath = os.path.join\n",
    "BASE_DIR = st.BASE_DIR"
   ]
  },
  {
   "cell_type": "code",
   "execution_count": 3,
   "id": "d732d4e3",
   "metadata": {},
   "outputs": [
    {
     "name": "stdout",
     "output_type": "stream",
     "text": [
      "A6N-13N-62-S110^2022-01-30\n"
     ]
    },
    {
     "data": {
      "text/html": [
       "<div>\n",
       "<style scoped>\n",
       "    .dataframe tbody tr th:only-of-type {\n",
       "        vertical-align: middle;\n",
       "    }\n",
       "\n",
       "    .dataframe tbody tr th {\n",
       "        vertical-align: top;\n",
       "    }\n",
       "\n",
       "    .dataframe thead th {\n",
       "        text-align: right;\n",
       "    }\n",
       "</style>\n",
       "<table border=\"1\" class=\"dataframe\">\n",
       "  <thead>\n",
       "    <tr style=\"text-align: right;\">\n",
       "      <th></th>\n",
       "      <th>ledger</th>\n",
       "      <th>date</th>\n",
       "      <th>third_party</th>\n",
       "      <th>accountable</th>\n",
       "      <th>concept</th>\n",
       "      <th>concept__date</th>\n",
       "      <th>account</th>\n",
       "      <th>value</th>\n",
       "      <th>pending_value</th>\n",
       "    </tr>\n",
       "  </thead>\n",
       "  <tbody>\n",
       "  </tbody>\n",
       "</table>\n",
       "</div>"
      ],
      "text/plain": [
       "Empty DataFrame\n",
       "Columns: [ledger, date, third_party, accountable, concept, concept__date, account, value, pending_value]\n",
       "Index: []"
      ]
     },
     "metadata": {},
     "output_type": "display_data"
    },
    {
     "name": "stdout",
     "output_type": "stream",
     "text": [
      "C18-1N-33^2022-01-01\n"
     ]
    },
    {
     "data": {
      "text/html": [
       "<div>\n",
       "<style scoped>\n",
       "    .dataframe tbody tr th:only-of-type {\n",
       "        vertical-align: middle;\n",
       "    }\n",
       "\n",
       "    .dataframe tbody tr th {\n",
       "        vertical-align: top;\n",
       "    }\n",
       "\n",
       "    .dataframe thead th {\n",
       "        text-align: right;\n",
       "    }\n",
       "</style>\n",
       "<table border=\"1\" class=\"dataframe\">\n",
       "  <thead>\n",
       "    <tr style=\"text-align: right;\">\n",
       "      <th></th>\n",
       "      <th>ledger</th>\n",
       "      <th>date</th>\n",
       "      <th>third_party</th>\n",
       "      <th>accountable</th>\n",
       "      <th>concept</th>\n",
       "      <th>concept__date</th>\n",
       "      <th>account</th>\n",
       "      <th>value</th>\n",
       "      <th>pending_value</th>\n",
       "    </tr>\n",
       "  </thead>\n",
       "  <tbody>\n",
       "    <tr>\n",
       "      <th>45</th>\n",
       "      <td>FV-00000013</td>\n",
       "      <td>2022-03-01</td>\n",
       "      <td>Productos de Caucho y Lona S.A.S.</td>\n",
       "      <td>C18-1N-33^2022-01-01</td>\n",
       "      <td>Mensualidad Arriendo Inmueble</td>\n",
       "      <td>2022-03-01</td>\n",
       "      <td>IVA arriendos inmuebles terceros por cobrar</td>\n",
       "      <td>190000</td>\n",
       "      <td>190000</td>\n",
       "    </tr>\n",
       "    <tr>\n",
       "      <th>44</th>\n",
       "      <td>FV-00000013</td>\n",
       "      <td>2022-03-01</td>\n",
       "      <td>Productos de Caucho y Lona S.A.S.</td>\n",
       "      <td>C18-1N-33^2022-01-01</td>\n",
       "      <td>Mensualidad Arriendo Inmueble</td>\n",
       "      <td>2022-03-01</td>\n",
       "      <td>Arriendos inmuebles terceros por cobrar</td>\n",
       "      <td>1000000</td>\n",
       "      <td>1000000</td>\n",
       "    </tr>\n",
       "  </tbody>\n",
       "</table>\n",
       "</div>"
      ],
      "text/plain": [
       "         ledger        date                        third_party  \\\n",
       "45  FV-00000013  2022-03-01  Productos de Caucho y Lona S.A.S.   \n",
       "44  FV-00000013  2022-03-01  Productos de Caucho y Lona S.A.S.   \n",
       "\n",
       "             accountable                        concept concept__date  \\\n",
       "45  C18-1N-33^2022-01-01  Mensualidad Arriendo Inmueble    2022-03-01   \n",
       "44  C18-1N-33^2022-01-01  Mensualidad Arriendo Inmueble    2022-03-01   \n",
       "\n",
       "                                        account    value  pending_value  \n",
       "45  IVA arriendos inmuebles terceros por cobrar   190000         190000  \n",
       "44      Arriendos inmuebles terceros por cobrar  1000000        1000000  "
      ]
     },
     "metadata": {},
     "output_type": "display_data"
    },
    {
     "name": "stdout",
     "output_type": "stream",
     "text": [
      "C31-1B-64^2022-01-15\n"
     ]
    },
    {
     "data": {
      "text/html": [
       "<div>\n",
       "<style scoped>\n",
       "    .dataframe tbody tr th:only-of-type {\n",
       "        vertical-align: middle;\n",
       "    }\n",
       "\n",
       "    .dataframe tbody tr th {\n",
       "        vertical-align: top;\n",
       "    }\n",
       "\n",
       "    .dataframe thead th {\n",
       "        text-align: right;\n",
       "    }\n",
       "</style>\n",
       "<table border=\"1\" class=\"dataframe\">\n",
       "  <thead>\n",
       "    <tr style=\"text-align: right;\">\n",
       "      <th></th>\n",
       "      <th>ledger</th>\n",
       "      <th>date</th>\n",
       "      <th>third_party</th>\n",
       "      <th>accountable</th>\n",
       "      <th>concept</th>\n",
       "      <th>concept__date</th>\n",
       "      <th>account</th>\n",
       "      <th>value</th>\n",
       "      <th>pending_value</th>\n",
       "    </tr>\n",
       "  </thead>\n",
       "  <tbody>\n",
       "  </tbody>\n",
       "</table>\n",
       "</div>"
      ],
      "text/plain": [
       "Empty DataFrame\n",
       "Columns: [ledger, date, third_party, accountable, concept, concept__date, account, value, pending_value]\n",
       "Index: []"
      ]
     },
     "metadata": {},
     "output_type": "display_data"
    },
    {
     "name": "stdout",
     "output_type": "stream",
     "text": [
      "K1B-30-16^2022-01-31\n"
     ]
    },
    {
     "data": {
      "text/html": [
       "<div>\n",
       "<style scoped>\n",
       "    .dataframe tbody tr th:only-of-type {\n",
       "        vertical-align: middle;\n",
       "    }\n",
       "\n",
       "    .dataframe tbody tr th {\n",
       "        vertical-align: top;\n",
       "    }\n",
       "\n",
       "    .dataframe thead th {\n",
       "        text-align: right;\n",
       "    }\n",
       "</style>\n",
       "<table border=\"1\" class=\"dataframe\">\n",
       "  <thead>\n",
       "    <tr style=\"text-align: right;\">\n",
       "      <th></th>\n",
       "      <th>ledger</th>\n",
       "      <th>date</th>\n",
       "      <th>third_party</th>\n",
       "      <th>accountable</th>\n",
       "      <th>concept</th>\n",
       "      <th>concept__date</th>\n",
       "      <th>account</th>\n",
       "      <th>value</th>\n",
       "      <th>pending_value</th>\n",
       "    </tr>\n",
       "  </thead>\n",
       "  <tbody>\n",
       "  </tbody>\n",
       "</table>\n",
       "</div>"
      ],
      "text/plain": [
       "Empty DataFrame\n",
       "Columns: [ledger, date, third_party, accountable, concept, concept__date, account, value, pending_value]\n",
       "Index: []"
      ]
     },
     "metadata": {},
     "output_type": "display_data"
    },
    {
     "name": "stdout",
     "output_type": "stream",
     "text": [
      "K2C-30-15-B3^2022-01-01\n"
     ]
    },
    {
     "data": {
      "text/html": [
       "<div>\n",
       "<style scoped>\n",
       "    .dataframe tbody tr th:only-of-type {\n",
       "        vertical-align: middle;\n",
       "    }\n",
       "\n",
       "    .dataframe tbody tr th {\n",
       "        vertical-align: top;\n",
       "    }\n",
       "\n",
       "    .dataframe thead th {\n",
       "        text-align: right;\n",
       "    }\n",
       "</style>\n",
       "<table border=\"1\" class=\"dataframe\">\n",
       "  <thead>\n",
       "    <tr style=\"text-align: right;\">\n",
       "      <th></th>\n",
       "      <th>ledger</th>\n",
       "      <th>date</th>\n",
       "      <th>third_party</th>\n",
       "      <th>accountable</th>\n",
       "      <th>concept</th>\n",
       "      <th>concept__date</th>\n",
       "      <th>account</th>\n",
       "      <th>value</th>\n",
       "      <th>pending_value</th>\n",
       "    </tr>\n",
       "  </thead>\n",
       "  <tbody>\n",
       "    <tr>\n",
       "      <th>40</th>\n",
       "      <td>FV-00000012</td>\n",
       "      <td>2022-03-01</td>\n",
       "      <td>Actividades Textiles S.A.S.</td>\n",
       "      <td>K2C-30-15-B3^2022-01-01</td>\n",
       "      <td>Mensualidad Arriendo Inmueble</td>\n",
       "      <td>2022-03-01</td>\n",
       "      <td>Arriendos inmuebles terceros por cobrar</td>\n",
       "      <td>1500000</td>\n",
       "      <td>1250000</td>\n",
       "    </tr>\n",
       "  </tbody>\n",
       "</table>\n",
       "</div>"
      ],
      "text/plain": [
       "         ledger        date                  third_party  \\\n",
       "40  FV-00000012  2022-03-01  Actividades Textiles S.A.S.   \n",
       "\n",
       "                accountable                        concept concept__date  \\\n",
       "40  K2C-30-15-B3^2022-01-01  Mensualidad Arriendo Inmueble    2022-03-01   \n",
       "\n",
       "                                    account    value  pending_value  \n",
       "40  Arriendos inmuebles terceros por cobrar  1500000        1250000  "
      ]
     },
     "metadata": {},
     "output_type": "display_data"
    }
   ],
   "source": [
    "ledger_groups = ledger.sort_values(['accountable', 'date', 'account'], ascending=[True, True, False])\\\n",
    "        .query('account in [13802005, 13802010]')\\\n",
    "        .groupby('accountable')\n",
    "\n",
    "for g_name, g_df in ledger_groups:\n",
    "    print(g_name)\n",
    "    display(charges_pending(g_df))"
   ]
  },
  {
   "cell_type": "code",
   "execution_count": 2,
   "id": "7563bbc1",
   "metadata": {},
   "outputs": [
    {
     "name": "stdout",
     "output_type": "stream",
     "text": [
      "A6N-13N-62-S110^2022-01-30\n"
     ]
    },
    {
     "data": {
      "text/html": [
       "<div>\n",
       "<style scoped>\n",
       "    .dataframe tbody tr th:only-of-type {\n",
       "        vertical-align: middle;\n",
       "    }\n",
       "\n",
       "    .dataframe tbody tr th {\n",
       "        vertical-align: top;\n",
       "    }\n",
       "\n",
       "    .dataframe thead th {\n",
       "        text-align: right;\n",
       "    }\n",
       "</style>\n",
       "<table border=\"1\" class=\"dataframe\">\n",
       "  <thead>\n",
       "    <tr style=\"text-align: right;\">\n",
       "      <th></th>\n",
       "      <th>ledger</th>\n",
       "      <th>date</th>\n",
       "      <th>third_party</th>\n",
       "      <th>accountable</th>\n",
       "      <th>concept</th>\n",
       "      <th>concept__date</th>\n",
       "      <th>account</th>\n",
       "      <th>value</th>\n",
       "      <th>pending_value</th>\n",
       "    </tr>\n",
       "  </thead>\n",
       "  <tbody>\n",
       "  </tbody>\n",
       "</table>\n",
       "</div>"
      ],
      "text/plain": [
       "Empty DataFrame\n",
       "Columns: [ledger, date, third_party, accountable, concept, concept__date, account, value, pending_value]\n",
       "Index: []"
      ]
     },
     "metadata": {},
     "output_type": "display_data"
    },
    {
     "name": "stdout",
     "output_type": "stream",
     "text": [
      "C18-1N-33^2022-01-01\n"
     ]
    },
    {
     "data": {
      "text/html": [
       "<div>\n",
       "<style scoped>\n",
       "    .dataframe tbody tr th:only-of-type {\n",
       "        vertical-align: middle;\n",
       "    }\n",
       "\n",
       "    .dataframe tbody tr th {\n",
       "        vertical-align: top;\n",
       "    }\n",
       "\n",
       "    .dataframe thead th {\n",
       "        text-align: right;\n",
       "    }\n",
       "</style>\n",
       "<table border=\"1\" class=\"dataframe\">\n",
       "  <thead>\n",
       "    <tr style=\"text-align: right;\">\n",
       "      <th></th>\n",
       "      <th>ledger</th>\n",
       "      <th>date</th>\n",
       "      <th>third_party</th>\n",
       "      <th>accountable</th>\n",
       "      <th>concept</th>\n",
       "      <th>concept__date</th>\n",
       "      <th>account</th>\n",
       "      <th>value</th>\n",
       "      <th>pending_value</th>\n",
       "    </tr>\n",
       "  </thead>\n",
       "  <tbody>\n",
       "    <tr>\n",
       "      <th>47</th>\n",
       "      <td>FV-00000013</td>\n",
       "      <td>2022-03-01</td>\n",
       "      <td>Productos de Caucho y Lona S.A.S.</td>\n",
       "      <td>C18-1N-33^2022-01-01</td>\n",
       "      <td>Mensualidad Arriendo Inmueble</td>\n",
       "      <td>2022-03-01</td>\n",
       "      <td>Arriendos inmuebles de terceros por recibir</td>\n",
       "      <td>-1000000</td>\n",
       "      <td>1000000</td>\n",
       "    </tr>\n",
       "  </tbody>\n",
       "</table>\n",
       "</div>"
      ],
      "text/plain": [
       "         ledger        date                        third_party  \\\n",
       "47  FV-00000013  2022-03-01  Productos de Caucho y Lona S.A.S.   \n",
       "\n",
       "             accountable                        concept concept__date  \\\n",
       "47  C18-1N-33^2022-01-01  Mensualidad Arriendo Inmueble    2022-03-01   \n",
       "\n",
       "                                        account    value  pending_value  \n",
       "47  Arriendos inmuebles de terceros por recibir -1000000        1000000  "
      ]
     },
     "metadata": {},
     "output_type": "display_data"
    },
    {
     "name": "stdout",
     "output_type": "stream",
     "text": [
      "C31-1B-64^2022-01-15\n"
     ]
    },
    {
     "data": {
      "text/html": [
       "<div>\n",
       "<style scoped>\n",
       "    .dataframe tbody tr th:only-of-type {\n",
       "        vertical-align: middle;\n",
       "    }\n",
       "\n",
       "    .dataframe tbody tr th {\n",
       "        vertical-align: top;\n",
       "    }\n",
       "\n",
       "    .dataframe thead th {\n",
       "        text-align: right;\n",
       "    }\n",
       "</style>\n",
       "<table border=\"1\" class=\"dataframe\">\n",
       "  <thead>\n",
       "    <tr style=\"text-align: right;\">\n",
       "      <th></th>\n",
       "      <th>ledger</th>\n",
       "      <th>date</th>\n",
       "      <th>third_party</th>\n",
       "      <th>accountable</th>\n",
       "      <th>concept</th>\n",
       "      <th>concept__date</th>\n",
       "      <th>account</th>\n",
       "      <th>value</th>\n",
       "      <th>pending_value</th>\n",
       "    </tr>\n",
       "  </thead>\n",
       "  <tbody>\n",
       "  </tbody>\n",
       "</table>\n",
       "</div>"
      ],
      "text/plain": [
       "Empty DataFrame\n",
       "Columns: [ledger, date, third_party, accountable, concept, concept__date, account, value, pending_value]\n",
       "Index: []"
      ]
     },
     "metadata": {},
     "output_type": "display_data"
    },
    {
     "name": "stdout",
     "output_type": "stream",
     "text": [
      "K1B-30-16^2022-01-31\n"
     ]
    },
    {
     "data": {
      "text/html": [
       "<div>\n",
       "<style scoped>\n",
       "    .dataframe tbody tr th:only-of-type {\n",
       "        vertical-align: middle;\n",
       "    }\n",
       "\n",
       "    .dataframe tbody tr th {\n",
       "        vertical-align: top;\n",
       "    }\n",
       "\n",
       "    .dataframe thead th {\n",
       "        text-align: right;\n",
       "    }\n",
       "</style>\n",
       "<table border=\"1\" class=\"dataframe\">\n",
       "  <thead>\n",
       "    <tr style=\"text-align: right;\">\n",
       "      <th></th>\n",
       "      <th>ledger</th>\n",
       "      <th>date</th>\n",
       "      <th>third_party</th>\n",
       "      <th>accountable</th>\n",
       "      <th>concept</th>\n",
       "      <th>concept__date</th>\n",
       "      <th>account</th>\n",
       "      <th>value</th>\n",
       "      <th>pending_value</th>\n",
       "    </tr>\n",
       "  </thead>\n",
       "  <tbody>\n",
       "  </tbody>\n",
       "</table>\n",
       "</div>"
      ],
      "text/plain": [
       "Empty DataFrame\n",
       "Columns: [ledger, date, third_party, accountable, concept, concept__date, account, value, pending_value]\n",
       "Index: []"
      ]
     },
     "metadata": {},
     "output_type": "display_data"
    },
    {
     "name": "stdout",
     "output_type": "stream",
     "text": [
      "K2C-30-15-B3^2022-01-01\n"
     ]
    },
    {
     "data": {
      "text/html": [
       "<div>\n",
       "<style scoped>\n",
       "    .dataframe tbody tr th:only-of-type {\n",
       "        vertical-align: middle;\n",
       "    }\n",
       "\n",
       "    .dataframe tbody tr th {\n",
       "        vertical-align: top;\n",
       "    }\n",
       "\n",
       "    .dataframe thead th {\n",
       "        text-align: right;\n",
       "    }\n",
       "</style>\n",
       "<table border=\"1\" class=\"dataframe\">\n",
       "  <thead>\n",
       "    <tr style=\"text-align: right;\">\n",
       "      <th></th>\n",
       "      <th>ledger</th>\n",
       "      <th>date</th>\n",
       "      <th>third_party</th>\n",
       "      <th>accountable</th>\n",
       "      <th>concept</th>\n",
       "      <th>concept__date</th>\n",
       "      <th>account</th>\n",
       "      <th>value</th>\n",
       "      <th>pending_value</th>\n",
       "    </tr>\n",
       "  </thead>\n",
       "  <tbody>\n",
       "    <tr>\n",
       "      <th>43</th>\n",
       "      <td>FV-00000012</td>\n",
       "      <td>2022-03-01</td>\n",
       "      <td>Actividades Textiles S.A.S.</td>\n",
       "      <td>K2C-30-15-B3^2022-01-01</td>\n",
       "      <td>Mensualidad Arriendo Inmueble</td>\n",
       "      <td>2022-03-01</td>\n",
       "      <td>Arriendos inmuebles de terceros por recibir</td>\n",
       "      <td>-1500000</td>\n",
       "      <td>1250000</td>\n",
       "    </tr>\n",
       "  </tbody>\n",
       "</table>\n",
       "</div>"
      ],
      "text/plain": [
       "         ledger        date                  third_party  \\\n",
       "43  FV-00000012  2022-03-01  Actividades Textiles S.A.S.   \n",
       "\n",
       "                accountable                        concept concept__date  \\\n",
       "43  K2C-30-15-B3^2022-01-01  Mensualidad Arriendo Inmueble    2022-03-01   \n",
       "\n",
       "                                        account    value  pending_value  \n",
       "43  Arriendos inmuebles de terceros por recibir -1500000        1250000  "
      ]
     },
     "metadata": {},
     "output_type": "display_data"
    }
   ],
   "source": [
    "ledger_groups = ledger\\\n",
    "        .sort_values(['accountable', 'date'])\\\n",
    "        .query('account in [913005]')\\\n",
    "        .groupby('accountable')\n",
    "\n",
    "for g_name, g_df in ledger_groups:\n",
    "    print(g_name)\n",
    "    display(charges_pending(g_df, False))"
   ]
  },
  {
   "cell_type": "code",
   "execution_count": 3,
   "id": "fdffaea3",
   "metadata": {},
   "outputs": [
    {
     "data": {
      "text/html": [
       "<div>\n",
       "<style scoped>\n",
       "    .dataframe tbody tr th:only-of-type {\n",
       "        vertical-align: middle;\n",
       "    }\n",
       "\n",
       "    .dataframe tbody tr th {\n",
       "        vertical-align: top;\n",
       "    }\n",
       "\n",
       "    .dataframe thead th {\n",
       "        text-align: right;\n",
       "    }\n",
       "</style>\n",
       "<table border=\"1\" class=\"dataframe\">\n",
       "  <thead>\n",
       "    <tr style=\"text-align: right;\">\n",
       "      <th></th>\n",
       "      <th>ledger</th>\n",
       "      <th>date</th>\n",
       "      <th>third_party</th>\n",
       "      <th>accountable</th>\n",
       "      <th>concept</th>\n",
       "      <th>concept__date</th>\n",
       "      <th>account</th>\n",
       "      <th>value</th>\n",
       "      <th>pending_value</th>\n",
       "    </tr>\n",
       "  </thead>\n",
       "  <tbody>\n",
       "    <tr>\n",
       "      <th>2</th>\n",
       "      <td>FV-00000001</td>\n",
       "      <td>2022-01-01</td>\n",
       "      <td>Actividades Textiles S.A.S.</td>\n",
       "      <td>K2C-30-15-B3^2022-01-01</td>\n",
       "      <td>Mensualidad Arriendo Inmueble</td>\n",
       "      <td>2022-01-01</td>\n",
       "      <td>IVA externo por pagar</td>\n",
       "      <td>-285000</td>\n",
       "      <td>285000</td>\n",
       "    </tr>\n",
       "    <tr>\n",
       "      <th>6</th>\n",
       "      <td>FV-00000002</td>\n",
       "      <td>2022-01-10</td>\n",
       "      <td>Productos de Caucho y Lona S.A.S.</td>\n",
       "      <td>C18-1N-33^2022-01-01</td>\n",
       "      <td>Mensualidad Arriendo Inmueble</td>\n",
       "      <td>2022-01-10</td>\n",
       "      <td>IVA externo por pagar</td>\n",
       "      <td>-134839</td>\n",
       "      <td>134839</td>\n",
       "    </tr>\n",
       "    <tr>\n",
       "      <th>14</th>\n",
       "      <td>FV-00000004</td>\n",
       "      <td>2022-01-15</td>\n",
       "      <td>Granos y Proteinas S.A.S.</td>\n",
       "      <td>K1B-30-16^2022-01-31</td>\n",
       "      <td>Mensualidad Arriendo Inmueble</td>\n",
       "      <td>2022-01-15</td>\n",
       "      <td>IVA externo por pagar</td>\n",
       "      <td>-304000</td>\n",
       "      <td>304000</td>\n",
       "    </tr>\n",
       "    <tr>\n",
       "      <th>10</th>\n",
       "      <td>FV-00000003</td>\n",
       "      <td>2022-01-15</td>\n",
       "      <td>Asoboce S.A.S.</td>\n",
       "      <td>C31-1B-64^2022-01-15</td>\n",
       "      <td>Mensualidad Arriendo Inmueble</td>\n",
       "      <td>2022-01-15</td>\n",
       "      <td>IVA externo por pagar</td>\n",
       "      <td>-380000</td>\n",
       "      <td>380000</td>\n",
       "    </tr>\n",
       "    <tr>\n",
       "      <th>18</th>\n",
       "      <td>FV-00000005</td>\n",
       "      <td>2022-01-31</td>\n",
       "      <td>Granos y Proteinas S.A.S.</td>\n",
       "      <td>K1B-30-16^2022-01-31</td>\n",
       "      <td>Mensualidad Arriendo Inmueble</td>\n",
       "      <td>2022-01-31</td>\n",
       "      <td>IVA externo por pagar</td>\n",
       "      <td>-570000</td>\n",
       "      <td>570000</td>\n",
       "    </tr>\n",
       "    <tr>\n",
       "      <th>26</th>\n",
       "      <td>FV-00000007</td>\n",
       "      <td>2022-02-01</td>\n",
       "      <td>Productos de Caucho y Lona S.A.S.</td>\n",
       "      <td>C18-1N-33^2022-01-01</td>\n",
       "      <td>Mensualidad Arriendo Inmueble</td>\n",
       "      <td>2022-02-01</td>\n",
       "      <td>IVA externo por pagar</td>\n",
       "      <td>-190000</td>\n",
       "      <td>190000</td>\n",
       "    </tr>\n",
       "    <tr>\n",
       "      <th>22</th>\n",
       "      <td>FV-00000006</td>\n",
       "      <td>2022-02-01</td>\n",
       "      <td>Actividades Textiles S.A.S.</td>\n",
       "      <td>K2C-30-15-B3^2022-01-01</td>\n",
       "      <td>Mensualidad Arriendo Inmueble</td>\n",
       "      <td>2022-02-01</td>\n",
       "      <td>IVA externo por pagar</td>\n",
       "      <td>-285000</td>\n",
       "      <td>285000</td>\n",
       "    </tr>\n",
       "    <tr>\n",
       "      <th>32</th>\n",
       "      <td>FV-00000009</td>\n",
       "      <td>2022-02-15</td>\n",
       "      <td>Asoboce S.A.S.</td>\n",
       "      <td>C31-1B-64^2022-01-15</td>\n",
       "      <td>Mensualidad Arriendo Inmueble</td>\n",
       "      <td>2022-02-15</td>\n",
       "      <td>IVA externo por pagar</td>\n",
       "      <td>-380000</td>\n",
       "      <td>380000</td>\n",
       "    </tr>\n",
       "    <tr>\n",
       "      <th>36</th>\n",
       "      <td>FV-00000010</td>\n",
       "      <td>2022-02-28</td>\n",
       "      <td>Granos y Proteinas S.A.S.</td>\n",
       "      <td>K1B-30-16^2022-01-31</td>\n",
       "      <td>Mensualidad Arriendo Inmueble</td>\n",
       "      <td>2022-02-28</td>\n",
       "      <td>IVA externo por pagar</td>\n",
       "      <td>-570000</td>\n",
       "      <td>570000</td>\n",
       "    </tr>\n",
       "    <tr>\n",
       "      <th>46</th>\n",
       "      <td>FV-00000013</td>\n",
       "      <td>2022-03-01</td>\n",
       "      <td>Productos de Caucho y Lona S.A.S.</td>\n",
       "      <td>C18-1N-33^2022-01-01</td>\n",
       "      <td>Mensualidad Arriendo Inmueble</td>\n",
       "      <td>2022-03-01</td>\n",
       "      <td>IVA externo por pagar</td>\n",
       "      <td>-190000</td>\n",
       "      <td>190000</td>\n",
       "    </tr>\n",
       "    <tr>\n",
       "      <th>42</th>\n",
       "      <td>FV-00000012</td>\n",
       "      <td>2022-03-01</td>\n",
       "      <td>Actividades Textiles S.A.S.</td>\n",
       "      <td>K2C-30-15-B3^2022-01-01</td>\n",
       "      <td>Mensualidad Arriendo Inmueble</td>\n",
       "      <td>2022-03-01</td>\n",
       "      <td>IVA externo por pagar</td>\n",
       "      <td>-285000</td>\n",
       "      <td>285000</td>\n",
       "    </tr>\n",
       "    <tr>\n",
       "      <th>50</th>\n",
       "      <td>FV-00000014</td>\n",
       "      <td>2022-03-15</td>\n",
       "      <td>Asoboce S.A.S.</td>\n",
       "      <td>C31-1B-64^2022-01-15</td>\n",
       "      <td>Mensualidad Arriendo Inmueble</td>\n",
       "      <td>2022-03-15</td>\n",
       "      <td>IVA externo por pagar</td>\n",
       "      <td>-380000</td>\n",
       "      <td>380000</td>\n",
       "    </tr>\n",
       "  </tbody>\n",
       "</table>\n",
       "</div>"
      ],
      "text/plain": [
       "         ledger        date                        third_party  \\\n",
       "2   FV-00000001  2022-01-01        Actividades Textiles S.A.S.   \n",
       "6   FV-00000002  2022-01-10  Productos de Caucho y Lona S.A.S.   \n",
       "14  FV-00000004  2022-01-15          Granos y Proteinas S.A.S.   \n",
       "10  FV-00000003  2022-01-15                     Asoboce S.A.S.   \n",
       "18  FV-00000005  2022-01-31          Granos y Proteinas S.A.S.   \n",
       "26  FV-00000007  2022-02-01  Productos de Caucho y Lona S.A.S.   \n",
       "22  FV-00000006  2022-02-01        Actividades Textiles S.A.S.   \n",
       "32  FV-00000009  2022-02-15                     Asoboce S.A.S.   \n",
       "36  FV-00000010  2022-02-28          Granos y Proteinas S.A.S.   \n",
       "46  FV-00000013  2022-03-01  Productos de Caucho y Lona S.A.S.   \n",
       "42  FV-00000012  2022-03-01        Actividades Textiles S.A.S.   \n",
       "50  FV-00000014  2022-03-15                     Asoboce S.A.S.   \n",
       "\n",
       "                accountable                        concept concept__date  \\\n",
       "2   K2C-30-15-B3^2022-01-01  Mensualidad Arriendo Inmueble    2022-01-01   \n",
       "6      C18-1N-33^2022-01-01  Mensualidad Arriendo Inmueble    2022-01-10   \n",
       "14     K1B-30-16^2022-01-31  Mensualidad Arriendo Inmueble    2022-01-15   \n",
       "10     C31-1B-64^2022-01-15  Mensualidad Arriendo Inmueble    2022-01-15   \n",
       "18     K1B-30-16^2022-01-31  Mensualidad Arriendo Inmueble    2022-01-31   \n",
       "26     C18-1N-33^2022-01-01  Mensualidad Arriendo Inmueble    2022-02-01   \n",
       "22  K2C-30-15-B3^2022-01-01  Mensualidad Arriendo Inmueble    2022-02-01   \n",
       "32     C31-1B-64^2022-01-15  Mensualidad Arriendo Inmueble    2022-02-15   \n",
       "36     K1B-30-16^2022-01-31  Mensualidad Arriendo Inmueble    2022-02-28   \n",
       "46     C18-1N-33^2022-01-01  Mensualidad Arriendo Inmueble    2022-03-01   \n",
       "42  K2C-30-15-B3^2022-01-01  Mensualidad Arriendo Inmueble    2022-03-01   \n",
       "50     C31-1B-64^2022-01-15  Mensualidad Arriendo Inmueble    2022-03-15   \n",
       "\n",
       "                  account   value  pending_value  \n",
       "2   IVA externo por pagar -285000         285000  \n",
       "6   IVA externo por pagar -134839         134839  \n",
       "14  IVA externo por pagar -304000         304000  \n",
       "10  IVA externo por pagar -380000         380000  \n",
       "18  IVA externo por pagar -570000         570000  \n",
       "26  IVA externo por pagar -190000         190000  \n",
       "22  IVA externo por pagar -285000         285000  \n",
       "32  IVA externo por pagar -380000         380000  \n",
       "36  IVA externo por pagar -570000         570000  \n",
       "46  IVA externo por pagar -190000         190000  \n",
       "42  IVA externo por pagar -285000         285000  \n",
       "50  IVA externo por pagar -380000         380000  "
      ]
     },
     "execution_count": 3,
     "metadata": {},
     "output_type": "execute_result"
    }
   ],
   "source": [
    "query = ledger\\\n",
    "        .sort_values(['date'])\\\n",
    "        .query('account in [240810]')        \n",
    "\n",
    "charges_pending(query, False)"
   ]
  },
  {
   "cell_type": "code",
   "execution_count": 1,
   "id": "2b9ce40b",
   "metadata": {},
   "outputs": [
    {
     "data": {
      "text/plain": [
       "(<Lease_Realty: K2C-30-15-B3^2022-01-01>,\n",
       " <Transaction: Arriendo Inmueble Comercial>,\n",
       " <User: leon>)"
      ]
     },
     "execution_count": 1,
     "metadata": {},
     "output_type": "execute_result"
    }
   ],
   "source": [
    "lease_realty = Lease_Realty.objects.all()[0]\n",
    "transaction_type = Transaction_Type.objects.all()[1]\n",
    "user = User.objects.all()[0]\n",
    "lease_realty, transaction_type, user"
   ]
  },
  {
   "cell_type": "code",
   "execution_count": 4,
   "id": "8c6ae454",
   "metadata": {},
   "outputs": [],
   "source": [
    "for dt in lease_realty.date_list():\n",
    "    lease_realty.create_charge_concepts(transaction_type, user)"
   ]
  },
  {
   "cell_type": "code",
   "execution_count": 5,
   "id": "b6e2822d",
   "metadata": {},
   "outputs": [
    {
     "data": {
      "text/plain": [
       "<QuerySet [<Charge_Concept: Arriendo Inmueble Comercial^2022-01-01_K2C-30-15-B3^2022-01-01>, <Charge_Concept: Arriendo Inmueble Comercial^2022-02-01_K2C-30-15-B3^2022-01-01>, <Charge_Concept: Arriendo Inmueble Comercial^2022-03-01_K2C-30-15-B3^2022-01-01>, <Charge_Concept: Arriendo Inmueble Comercial^2022-04-01_K2C-30-15-B3^2022-01-01>]>"
      ]
     },
     "execution_count": 5,
     "metadata": {},
     "output_type": "execute_result"
    }
   ],
   "source": [
    "Charge_Concept.objects.all()"
   ]
  },
  {
   "cell_type": "code",
   "execution_count": 2,
   "id": "cbdddd9a",
   "metadata": {},
   "outputs": [
    {
     "data": {
      "text/plain": [
       "(<Charge_Concept: Arriendo Inmueble Comercial^2022-01-01_K2C-30-15-B3^2022-01-01>,\n",
       " <Ledger_Template: FV_Arriendo Inmueble Comercial>)"
      ]
     },
     "execution_count": 2,
     "metadata": {},
     "output_type": "execute_result"
    }
   ],
   "source": [
    "charge_concept = Charge_Concept.objects.all()[0]\n",
    "ledger_template = Ledger_Template.objects.all()[1]\n",
    "charge_concept, ledger_template"
   ]
  },
  {
   "cell_type": "code",
   "execution_count": 35,
   "id": "7f8acb7e",
   "metadata": {},
   "outputs": [],
   "source": [
    "def check_charge_concept2ledger(lease, charge_concept, ledger_template):\n",
    "    charges_df = pd.DataFrame(Charge.active.filter(concept=cha_con, ledger__type=led_tem.ledger_type).values('ledger', 'account', 'value'))\n",
    "    if charges_df.empty:\n",
    "        return None\n",
    "    else:\n",
    "        if charges_df.ledger.nunique() != 1:\n",
    "            return f'{charge_concept} in multiple ledgers ({chas_df.ledger.unique()[0]}).'\n",
    "        base_value = lease.date_value_dict()[charge_concept.date]\n",
    "        account_value_dict = {}\n",
    "        for charge_template in ledger_template.charges_templates.all():\n",
    "            account_value_dict[charge_template.account_id] = charge_template.factor.factored_value(lease.accountable_ptr, charge_concept.date, base_value, charge_template.nature)\n",
    "        charges_df = charges_df.assign(correct=charges_df.apply(lambda x: True if account_value_dict[x.account] == x.value else False, axis=1)) \n",
    "        if len(charges_df) == charges_df.correct.value_counts()[True]:\n",
    "            return True\n",
    "        else:\n",
    "            return charges_df"
   ]
  },
  {
   "cell_type": "code",
   "execution_count": 6,
   "id": "a3aea5a3",
   "metadata": {},
   "outputs": [],
   "source": [
    "def ledger_from_template(charge_concept, ledger_template, date, user):\n",
    "    ledger = Ledger(\n",
    "        state_change_user=user,\n",
    "        type=ledger_template.ledger_type,\n",
    "        holder=charge_concept.accountable.ledger_holder(),\n",
    "        third_party=charge_concept.accountable.ledger_third_party(),\n",
    "        date=date\n",
    "    )\n",
    "    ledger.save()\n",
    "\n",
    "    for charge_template in ledger_template.charges_templates.all():\n",
    "        Charge(\n",
    "            state_change_user=user,\n",
    "            ledger=ledger,\n",
    "            account=charge_template.account,\n",
    "            value=charge_template.factor.factored_value(charge_concept.accountable, charge_concept.date, charge_concept.accountable.subclass_obj().date_value_dict()[charge_concept.date], charge_template.nature),\n",
    "            concept=charge_concept\n",
    "        ).save()\n",
    "    "
   ]
  },
  {
   "cell_type": "code",
   "execution_count": 7,
   "id": "d8e01c07",
   "metadata": {},
   "outputs": [],
   "source": [
    "ledger_from_template(charge_concept, ledger_template, datetime.date.today(), user)"
   ]
  },
  {
   "cell_type": "code",
   "execution_count": 25,
   "id": "398b00e9",
   "metadata": {},
   "outputs": [
    {
     "data": {
      "text/plain": [
       "<QuerySet [datetime.date(2022, 1, 15), datetime.date(2022, 2, 15), datetime.date(2022, 3, 15)]>"
      ]
     },
     "execution_count": 25,
     "metadata": {},
     "output_type": "execute_result"
    }
   ],
   "source": [
    "cha_cons_dts = Lease_Realty.objects.all()[1].charges_concepts.values_list('date', flat=True)\n",
    "cha_cons_dts"
   ]
  },
  {
   "cell_type": "code",
   "execution_count": 21,
   "id": "ec139a3b",
   "metadata": {},
   "outputs": [
    {
     "data": {
      "text/plain": [
       "[datetime.date(2022, 1, 15),\n",
       " datetime.date(2022, 2, 15),\n",
       " datetime.date(2022, 3, 15),\n",
       " datetime.date(2022, 4, 15)]"
      ]
     },
     "execution_count": 21,
     "metadata": {},
     "output_type": "execute_result"
    }
   ],
   "source": [
    "date_list = Lease_Realty.objects.all()[1].date_list()\n",
    "date_list"
   ]
  },
  {
   "cell_type": "code",
   "execution_count": 26,
   "id": "25e93092",
   "metadata": {},
   "outputs": [
    {
     "data": {
      "text/plain": [
       "[datetime.date(2022, 4, 15)]"
      ]
     },
     "execution_count": 26,
     "metadata": {},
     "output_type": "execute_result"
    }
   ],
   "source": [
    "for dt in cha_cons_dts:\n",
    "    if dt in date_list:\n",
    "        date_list.remove(dt)\n",
    "date_list"
   ]
  },
  {
   "cell_type": "code",
   "execution_count": 1,
   "id": "38474cd0",
   "metadata": {},
   "outputs": [],
   "source": [
    "from django.contrib.contenttypes.models import ContentType"
   ]
  },
  {
   "cell_type": "code",
   "execution_count": 1,
   "id": "beae9f79",
   "metadata": {},
   "outputs": [
    {
     "data": {
      "text/plain": [
       "<Lease_Realty: A6N-13N-62-S110^2022-01-30>"
      ]
     },
     "execution_count": 1,
     "metadata": {},
     "output_type": "execute_result"
    }
   ],
   "source": [
    "lea = Lease_Realty.objects.all()[4]\n",
    "lea"
   ]
  },
  {
   "cell_type": "code",
   "execution_count": 5,
   "id": "4509e582",
   "metadata": {},
   "outputs": [
    {
     "data": {
      "text/plain": [
       "<QuerySet [<Charge_Concept: Arriendo Inmueble Residencial^2022-02-05_A6N-13N-62-S110^2022-01-30>, <Charge_Concept: Arriendo Inmueble Residencial^2022-02-28_A6N-13N-62-S110^2022-01-30>]>"
      ]
     },
     "execution_count": 5,
     "metadata": {},
     "output_type": "execute_result"
    }
   ],
   "source": [
    "lea.charges_concepts.all()"
   ]
  },
  {
   "cell_type": "code",
   "execution_count": 17,
   "id": "235d8994",
   "metadata": {},
   "outputs": [
    {
     "data": {
      "text/plain": [
       "[(0, <Transaction: Arriendo Inmueble Residencial>)]"
      ]
     },
     "execution_count": 17,
     "metadata": {},
     "output_type": "execute_result"
    }
   ],
   "source": [
    "[(list(lea.transaction_types.all()).index(item), item) for item in list(lea.transaction_types.all())]"
   ]
  }
 ],
 "metadata": {
  "kernelspec": {
   "display_name": "Django Shell-Plus",
   "language": "python",
   "name": "django_extensions"
  },
  "language_info": {
   "codemirror_mode": {
    "name": "ipython",
    "version": 3
   },
   "file_extension": ".py",
   "mimetype": "text/x-python",
   "name": "python",
   "nbconvert_exporter": "python",
   "pygments_lexer": "ipython3",
   "version": "3.9.7"
  }
 },
 "nbformat": 4,
 "nbformat_minor": 5
}
