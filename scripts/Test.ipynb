{
 "cells": [
  {
   "cell_type": "code",
   "execution_count": 1,
   "id": "9020db64",
   "metadata": {},
   "outputs": [],
   "source": [
    "import os\n",
    "import pandas as pd\n",
    "\n",
    "jpath = os.path.join\n",
    "BASEDIR = '/home/leon/projects/adin_2022/'"
   ]
  },
  {
   "cell_type": "code",
   "execution_count": 3,
   "id": "0b79364a",
   "metadata": {},
   "outputs": [
    {
     "data": {
      "text/plain": [
       "<Addresss: A6N-13N-62, Cali>"
      ]
     },
     "execution_count": 3,
     "metadata": {},
     "output_type": "execute_result"
    }
   ],
   "source": [
    "add=Address.objects.all()[0]\n",
    "add"
   ]
  },
  {
   "cell_type": "code",
   "execution_count": 9,
   "id": "09af16d8",
   "metadata": {},
   "outputs": [
    {
     "data": {
      "text/plain": [
       "['__class__',\n",
       " '__delattr__',\n",
       " '__dict__',\n",
       " '__dir__',\n",
       " '__doc__',\n",
       " '__eq__',\n",
       " '__format__',\n",
       " '__ge__',\n",
       " '__getattribute__',\n",
       " '__gt__',\n",
       " '__hash__',\n",
       " '__init__',\n",
       " '__init_subclass__',\n",
       " '__le__',\n",
       " '__lt__',\n",
       " '__module__',\n",
       " '__ne__',\n",
       " '__new__',\n",
       " '__reduce__',\n",
       " '__reduce_ex__',\n",
       " '__repr__',\n",
       " '__setattr__',\n",
       " '__sizeof__',\n",
       " '__slotnames__',\n",
       " '__str__',\n",
       " '__subclasshook__',\n",
       " '__weakref__',\n",
       " 'auto_created',\n",
       " 'concrete',\n",
       " 'db_constraint',\n",
       " 'db_type',\n",
       " 'delete_cached_value',\n",
       " 'editable',\n",
       " 'empty_strings_allowed',\n",
       " 'field',\n",
       " 'get_accessor_name',\n",
       " 'get_cache_name',\n",
       " 'get_cached_value',\n",
       " 'get_choices',\n",
       " 'get_extra_restriction',\n",
       " 'get_internal_type',\n",
       " 'get_joining_columns',\n",
       " 'get_lookup',\n",
       " 'get_path_info',\n",
       " 'get_related_field',\n",
       " 'hidden',\n",
       " 'identity',\n",
       " 'is_cached',\n",
       " 'is_hidden',\n",
       " 'is_relation',\n",
       " 'limit_choices_to',\n",
       " 'many_to_many',\n",
       " 'many_to_one',\n",
       " 'model',\n",
       " 'multiple',\n",
       " 'name',\n",
       " 'null',\n",
       " 'on_delete',\n",
       " 'one_to_many',\n",
       " 'one_to_one',\n",
       " 'parent_link',\n",
       " 'related_model',\n",
       " 'related_name',\n",
       " 'related_query_name',\n",
       " 'remote_field',\n",
       " 'set_cached_value',\n",
       " 'set_field_name',\n",
       " 'symmetrical',\n",
       " 'target_field',\n",
       " 'through',\n",
       " 'through_fields']"
      ]
     },
     "execution_count": 9,
     "metadata": {},
     "output_type": "execute_result"
    }
   ],
   "source": [
    "dir(add._meta.get_fields()[0])"
   ]
  },
  {
   "cell_type": "code",
   "execution_count": 17,
   "id": "ad891847",
   "metadata": {},
   "outputs": [
    {
     "data": {
      "text/plain": [
       "[<Estate: A6N-13N-62>]"
      ]
     },
     "execution_count": 17,
     "metadata": {},
     "output_type": "execute_result"
    }
   ],
   "source": [
    "objs = []\n",
    "for field in add._meta.get_fields():\n",
    "    if (field.many_to_many or field.one_to_many) and field.related_query_name:\n",
    "        for obj in eval(f'add.{field.related_name}.all()'):\n",
    "            objs.append(obj)\n",
    "objs"
   ]
  },
  {
   "cell_type": "code",
   "execution_count": null,
   "id": "a13ba421",
   "metadata": {},
   "outputs": [],
   "source": []
  }
 ],
 "metadata": {
  "kernelspec": {
   "display_name": "Django Shell-Plus",
   "language": "python",
   "name": "django_extensions"
  },
  "language_info": {
   "codemirror_mode": {
    "name": "ipython",
    "version": 3
   },
   "file_extension": ".py",
   "mimetype": "text/x-python",
   "name": "python",
   "nbconvert_exporter": "python",
   "pygments_lexer": "ipython3",
   "version": "3.9.7"
  }
 },
 "nbformat": 4,
 "nbformat_minor": 5
}
