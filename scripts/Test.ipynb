{
 "cells": [
  {
   "cell_type": "code",
   "execution_count": 10,
   "id": "9020db64",
   "metadata": {},
   "outputs": [],
   "source": [
    "from people.forms.person_address_forms import Person_AddressCreateForm"
   ]
  },
  {
   "cell_type": "code",
   "execution_count": 11,
   "id": "0b79364a",
   "metadata": {},
   "outputs": [],
   "source": [
    "pa=Person_Address.objects.all()[0]\n",
    "paf=Person_AddressCreateForm(instance=pa)"
   ]
  },
  {
   "cell_type": "code",
   "execution_count": 15,
   "id": "bc6e16e4",
   "metadata": {},
   "outputs": [
    {
     "name": "stdout",
     "output_type": "stream",
     "text": [
      "person\n",
      "address\n",
      "use\n"
     ]
    }
   ],
   "source": [
    "for f in paf.visible_fields():\n",
    "    print(f.name)"
   ]
  },
  {
   "cell_type": "code",
   "execution_count": 32,
   "id": "df973922",
   "metadata": {},
   "outputs": [
    {
     "data": {
      "text/plain": [
       "['FORWARD_PROPERTIES',\n",
       " 'REVERSE_PROPERTIES',\n",
       " '__class__',\n",
       " '__delattr__',\n",
       " '__dict__',\n",
       " '__dir__',\n",
       " '__doc__',\n",
       " '__eq__',\n",
       " '__format__',\n",
       " '__ge__',\n",
       " '__getattribute__',\n",
       " '__gt__',\n",
       " '__hash__',\n",
       " '__init__',\n",
       " '__init_subclass__',\n",
       " '__le__',\n",
       " '__lt__',\n",
       " '__module__',\n",
       " '__ne__',\n",
       " '__new__',\n",
       " '__reduce__',\n",
       " '__reduce_ex__',\n",
       " '__repr__',\n",
       " '__setattr__',\n",
       " '__sizeof__',\n",
       " '__str__',\n",
       " '__subclasshook__',\n",
       " '__weakref__',\n",
       " '_expire_cache',\n",
       " '_format_names_with_class',\n",
       " '_forward_fields_map',\n",
       " '_get_default_pk_class',\n",
       " '_get_fields',\n",
       " '_get_fields_cache',\n",
       " '_ordering_clash',\n",
       " '_populate_directed_relation_graph',\n",
       " '_prepare',\n",
       " '_property_names',\n",
       " '_relation_tree',\n",
       " 'abstract',\n",
       " 'add_field',\n",
       " 'add_manager',\n",
       " 'app_config',\n",
       " 'app_label',\n",
       " 'apps',\n",
       " 'auto_created',\n",
       " 'auto_field',\n",
       " 'base_manager',\n",
       " 'base_manager_name',\n",
       " 'can_migrate',\n",
       " 'concrete_fields',\n",
       " 'concrete_model',\n",
       " 'constraints',\n",
       " 'contribute_to_class',\n",
       " 'db_returning_fields',\n",
       " 'db_table',\n",
       " 'db_tablespace',\n",
       " 'default_apps',\n",
       " 'default_manager',\n",
       " 'default_manager_name',\n",
       " 'default_permissions',\n",
       " 'default_related_name',\n",
       " 'fields',\n",
       " 'fields_map',\n",
       " 'get_ancestor_link',\n",
       " 'get_base_chain',\n",
       " 'get_field',\n",
       " 'get_fields',\n",
       " 'get_latest_by',\n",
       " 'get_parent_list',\n",
       " 'get_path_from_parent',\n",
       " 'get_path_to_parent',\n",
       " 'index_together',\n",
       " 'indexes',\n",
       " 'installed',\n",
       " 'label',\n",
       " 'label_lower',\n",
       " 'local_concrete_fields',\n",
       " 'local_fields',\n",
       " 'local_managers',\n",
       " 'local_many_to_many',\n",
       " 'managed',\n",
       " 'managers',\n",
       " 'managers_map',\n",
       " 'many_to_many',\n",
       " 'model',\n",
       " 'model_name',\n",
       " 'object_name',\n",
       " 'order_with_respect_to',\n",
       " 'ordering',\n",
       " 'original_attrs',\n",
       " 'parents',\n",
       " 'permissions',\n",
       " 'pk',\n",
       " 'private_fields',\n",
       " 'proxy',\n",
       " 'proxy_for_model',\n",
       " 'related_fkey_lookups',\n",
       " 'related_objects',\n",
       " 'required_db_features',\n",
       " 'required_db_vendor',\n",
       " 'select_on_save',\n",
       " 'setup_pk',\n",
       " 'setup_proxy',\n",
       " 'swappable',\n",
       " 'swapped',\n",
       " 'total_unique_constraints',\n",
       " 'unique_together',\n",
       " 'verbose_name',\n",
       " 'verbose_name_plural',\n",
       " 'verbose_name_raw']"
      ]
     },
     "execution_count": 32,
     "metadata": {},
     "output_type": "execute_result"
    }
   ],
   "source": [
    "dir(paf._meta.model._meta)"
   ]
  },
  {
   "cell_type": "code",
   "execution_count": 36,
   "id": "1d22114b",
   "metadata": {},
   "outputs": [
    {
     "data": {
      "text/plain": [
       "'Person'"
      ]
     },
     "execution_count": 36,
     "metadata": {},
     "output_type": "execute_result"
    }
   ],
   "source": [
    "paf._meta.model._meta.get_field('person').related_model.__name__"
   ]
  },
  {
   "cell_type": "code",
   "execution_count": null,
   "id": "67538af6",
   "metadata": {},
   "outputs": [],
   "source": []
  }
 ],
 "metadata": {
  "kernelspec": {
   "display_name": "Django Shell-Plus",
   "language": "python",
   "name": "django_extensions"
  },
  "language_info": {
   "codemirror_mode": {
    "name": "ipython",
    "version": 3
   },
   "file_extension": ".py",
   "mimetype": "text/x-python",
   "name": "python",
   "nbconvert_exporter": "python",
   "pygments_lexer": "ipython3",
   "version": "3.9.7"
  }
 },
 "nbformat": 4,
 "nbformat_minor": 5
}
