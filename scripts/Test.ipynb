{
 "cells": [
  {
   "cell_type": "code",
   "execution_count": 1,
   "id": "9020db64",
   "metadata": {},
   "outputs": [],
   "source": [
    "import os\n",
    "import adin.settings as st\n",
    "from IPython.display import display\n",
    "\n",
    "jpath = os.path.join\n",
    "BASE_DIR = st.BASE_DIR"
   ]
  },
  {
   "cell_type": "code",
   "execution_count": 3,
   "id": "d732d4e3",
   "metadata": {},
   "outputs": [
    {
     "name": "stdout",
     "output_type": "stream",
     "text": [
      "A6N-13N-62-S110^2022-01-30\n"
     ]
    },
    {
     "data": {
      "text/html": [
       "<div>\n",
       "<style scoped>\n",
       "    .dataframe tbody tr th:only-of-type {\n",
       "        vertical-align: middle;\n",
       "    }\n",
       "\n",
       "    .dataframe tbody tr th {\n",
       "        vertical-align: top;\n",
       "    }\n",
       "\n",
       "    .dataframe thead th {\n",
       "        text-align: right;\n",
       "    }\n",
       "</style>\n",
       "<table border=\"1\" class=\"dataframe\">\n",
       "  <thead>\n",
       "    <tr style=\"text-align: right;\">\n",
       "      <th></th>\n",
       "      <th>ledger</th>\n",
       "      <th>date</th>\n",
       "      <th>third_party</th>\n",
       "      <th>accountable</th>\n",
       "      <th>concept</th>\n",
       "      <th>concept__date</th>\n",
       "      <th>account</th>\n",
       "      <th>value</th>\n",
       "      <th>pending_value</th>\n",
       "    </tr>\n",
       "  </thead>\n",
       "  <tbody>\n",
       "  </tbody>\n",
       "</table>\n",
       "</div>"
      ],
      "text/plain": [
       "Empty DataFrame\n",
       "Columns: [ledger, date, third_party, accountable, concept, concept__date, account, value, pending_value]\n",
       "Index: []"
      ]
     },
     "metadata": {},
     "output_type": "display_data"
    },
    {
     "name": "stdout",
     "output_type": "stream",
     "text": [
      "C18-1N-33^2022-01-01\n"
     ]
    },
    {
     "data": {
      "text/html": [
       "<div>\n",
       "<style scoped>\n",
       "    .dataframe tbody tr th:only-of-type {\n",
       "        vertical-align: middle;\n",
       "    }\n",
       "\n",
       "    .dataframe tbody tr th {\n",
       "        vertical-align: top;\n",
       "    }\n",
       "\n",
       "    .dataframe thead th {\n",
       "        text-align: right;\n",
       "    }\n",
       "</style>\n",
       "<table border=\"1\" class=\"dataframe\">\n",
       "  <thead>\n",
       "    <tr style=\"text-align: right;\">\n",
       "      <th></th>\n",
       "      <th>ledger</th>\n",
       "      <th>date</th>\n",
       "      <th>third_party</th>\n",
       "      <th>accountable</th>\n",
       "      <th>concept</th>\n",
       "      <th>concept__date</th>\n",
       "      <th>account</th>\n",
       "      <th>value</th>\n",
       "      <th>pending_value</th>\n",
       "    </tr>\n",
       "  </thead>\n",
       "  <tbody>\n",
       "    <tr>\n",
       "      <th>45</th>\n",
       "      <td>FV-00000013</td>\n",
       "      <td>2022-03-01</td>\n",
       "      <td>Productos de Caucho y Lona S.A.S.</td>\n",
       "      <td>C18-1N-33^2022-01-01</td>\n",
       "      <td>Mensualidad Arriendo Inmueble</td>\n",
       "      <td>2022-03-01</td>\n",
       "      <td>IVA arriendos inmuebles terceros por cobrar</td>\n",
       "      <td>190000</td>\n",
       "      <td>190000</td>\n",
       "    </tr>\n",
       "    <tr>\n",
       "      <th>44</th>\n",
       "      <td>FV-00000013</td>\n",
       "      <td>2022-03-01</td>\n",
       "      <td>Productos de Caucho y Lona S.A.S.</td>\n",
       "      <td>C18-1N-33^2022-01-01</td>\n",
       "      <td>Mensualidad Arriendo Inmueble</td>\n",
       "      <td>2022-03-01</td>\n",
       "      <td>Arriendos inmuebles terceros por cobrar</td>\n",
       "      <td>1000000</td>\n",
       "      <td>1000000</td>\n",
       "    </tr>\n",
       "  </tbody>\n",
       "</table>\n",
       "</div>"
      ],
      "text/plain": [
       "         ledger        date                        third_party  \\\n",
       "45  FV-00000013  2022-03-01  Productos de Caucho y Lona S.A.S.   \n",
       "44  FV-00000013  2022-03-01  Productos de Caucho y Lona S.A.S.   \n",
       "\n",
       "             accountable                        concept concept__date  \\\n",
       "45  C18-1N-33^2022-01-01  Mensualidad Arriendo Inmueble    2022-03-01   \n",
       "44  C18-1N-33^2022-01-01  Mensualidad Arriendo Inmueble    2022-03-01   \n",
       "\n",
       "                                        account    value  pending_value  \n",
       "45  IVA arriendos inmuebles terceros por cobrar   190000         190000  \n",
       "44      Arriendos inmuebles terceros por cobrar  1000000        1000000  "
      ]
     },
     "metadata": {},
     "output_type": "display_data"
    },
    {
     "name": "stdout",
     "output_type": "stream",
     "text": [
      "C31-1B-64^2022-01-15\n"
     ]
    },
    {
     "data": {
      "text/html": [
       "<div>\n",
       "<style scoped>\n",
       "    .dataframe tbody tr th:only-of-type {\n",
       "        vertical-align: middle;\n",
       "    }\n",
       "\n",
       "    .dataframe tbody tr th {\n",
       "        vertical-align: top;\n",
       "    }\n",
       "\n",
       "    .dataframe thead th {\n",
       "        text-align: right;\n",
       "    }\n",
       "</style>\n",
       "<table border=\"1\" class=\"dataframe\">\n",
       "  <thead>\n",
       "    <tr style=\"text-align: right;\">\n",
       "      <th></th>\n",
       "      <th>ledger</th>\n",
       "      <th>date</th>\n",
       "      <th>third_party</th>\n",
       "      <th>accountable</th>\n",
       "      <th>concept</th>\n",
       "      <th>concept__date</th>\n",
       "      <th>account</th>\n",
       "      <th>value</th>\n",
       "      <th>pending_value</th>\n",
       "    </tr>\n",
       "  </thead>\n",
       "  <tbody>\n",
       "  </tbody>\n",
       "</table>\n",
       "</div>"
      ],
      "text/plain": [
       "Empty DataFrame\n",
       "Columns: [ledger, date, third_party, accountable, concept, concept__date, account, value, pending_value]\n",
       "Index: []"
      ]
     },
     "metadata": {},
     "output_type": "display_data"
    },
    {
     "name": "stdout",
     "output_type": "stream",
     "text": [
      "K1B-30-16^2022-01-31\n"
     ]
    },
    {
     "data": {
      "text/html": [
       "<div>\n",
       "<style scoped>\n",
       "    .dataframe tbody tr th:only-of-type {\n",
       "        vertical-align: middle;\n",
       "    }\n",
       "\n",
       "    .dataframe tbody tr th {\n",
       "        vertical-align: top;\n",
       "    }\n",
       "\n",
       "    .dataframe thead th {\n",
       "        text-align: right;\n",
       "    }\n",
       "</style>\n",
       "<table border=\"1\" class=\"dataframe\">\n",
       "  <thead>\n",
       "    <tr style=\"text-align: right;\">\n",
       "      <th></th>\n",
       "      <th>ledger</th>\n",
       "      <th>date</th>\n",
       "      <th>third_party</th>\n",
       "      <th>accountable</th>\n",
       "      <th>concept</th>\n",
       "      <th>concept__date</th>\n",
       "      <th>account</th>\n",
       "      <th>value</th>\n",
       "      <th>pending_value</th>\n",
       "    </tr>\n",
       "  </thead>\n",
       "  <tbody>\n",
       "  </tbody>\n",
       "</table>\n",
       "</div>"
      ],
      "text/plain": [
       "Empty DataFrame\n",
       "Columns: [ledger, date, third_party, accountable, concept, concept__date, account, value, pending_value]\n",
       "Index: []"
      ]
     },
     "metadata": {},
     "output_type": "display_data"
    },
    {
     "name": "stdout",
     "output_type": "stream",
     "text": [
      "K2C-30-15-B3^2022-01-01\n"
     ]
    },
    {
     "data": {
      "text/html": [
       "<div>\n",
       "<style scoped>\n",
       "    .dataframe tbody tr th:only-of-type {\n",
       "        vertical-align: middle;\n",
       "    }\n",
       "\n",
       "    .dataframe tbody tr th {\n",
       "        vertical-align: top;\n",
       "    }\n",
       "\n",
       "    .dataframe thead th {\n",
       "        text-align: right;\n",
       "    }\n",
       "</style>\n",
       "<table border=\"1\" class=\"dataframe\">\n",
       "  <thead>\n",
       "    <tr style=\"text-align: right;\">\n",
       "      <th></th>\n",
       "      <th>ledger</th>\n",
       "      <th>date</th>\n",
       "      <th>third_party</th>\n",
       "      <th>accountable</th>\n",
       "      <th>concept</th>\n",
       "      <th>concept__date</th>\n",
       "      <th>account</th>\n",
       "      <th>value</th>\n",
       "      <th>pending_value</th>\n",
       "    </tr>\n",
       "  </thead>\n",
       "  <tbody>\n",
       "    <tr>\n",
       "      <th>40</th>\n",
       "      <td>FV-00000012</td>\n",
       "      <td>2022-03-01</td>\n",
       "      <td>Actividades Textiles S.A.S.</td>\n",
       "      <td>K2C-30-15-B3^2022-01-01</td>\n",
       "      <td>Mensualidad Arriendo Inmueble</td>\n",
       "      <td>2022-03-01</td>\n",
       "      <td>Arriendos inmuebles terceros por cobrar</td>\n",
       "      <td>1500000</td>\n",
       "      <td>1250000</td>\n",
       "    </tr>\n",
       "  </tbody>\n",
       "</table>\n",
       "</div>"
      ],
      "text/plain": [
       "         ledger        date                  third_party  \\\n",
       "40  FV-00000012  2022-03-01  Actividades Textiles S.A.S.   \n",
       "\n",
       "                accountable                        concept concept__date  \\\n",
       "40  K2C-30-15-B3^2022-01-01  Mensualidad Arriendo Inmueble    2022-03-01   \n",
       "\n",
       "                                    account    value  pending_value  \n",
       "40  Arriendos inmuebles terceros por cobrar  1500000        1250000  "
      ]
     },
     "metadata": {},
     "output_type": "display_data"
    }
   ],
   "source": [
    "ledger_groups = ledger.sort_values(['accountable', 'date', 'account'], ascending=[True, True, False])\\\n",
    "        .query('account in [13802005, 13802010]')\\\n",
    "        .groupby('accountable')\n",
    "\n",
    "for g_name, g_df in ledger_groups:\n",
    "    print(g_name)\n",
    "    display(charges_pending(g_df))"
   ]
  },
  {
   "cell_type": "code",
   "execution_count": 2,
   "id": "7563bbc1",
   "metadata": {},
   "outputs": [
    {
     "name": "stdout",
     "output_type": "stream",
     "text": [
      "A6N-13N-62-S110^2022-01-30\n"
     ]
    },
    {
     "data": {
      "text/html": [
       "<div>\n",
       "<style scoped>\n",
       "    .dataframe tbody tr th:only-of-type {\n",
       "        vertical-align: middle;\n",
       "    }\n",
       "\n",
       "    .dataframe tbody tr th {\n",
       "        vertical-align: top;\n",
       "    }\n",
       "\n",
       "    .dataframe thead th {\n",
       "        text-align: right;\n",
       "    }\n",
       "</style>\n",
       "<table border=\"1\" class=\"dataframe\">\n",
       "  <thead>\n",
       "    <tr style=\"text-align: right;\">\n",
       "      <th></th>\n",
       "      <th>ledger</th>\n",
       "      <th>date</th>\n",
       "      <th>third_party</th>\n",
       "      <th>accountable</th>\n",
       "      <th>concept</th>\n",
       "      <th>concept__date</th>\n",
       "      <th>account</th>\n",
       "      <th>value</th>\n",
       "      <th>pending_value</th>\n",
       "    </tr>\n",
       "  </thead>\n",
       "  <tbody>\n",
       "  </tbody>\n",
       "</table>\n",
       "</div>"
      ],
      "text/plain": [
       "Empty DataFrame\n",
       "Columns: [ledger, date, third_party, accountable, concept, concept__date, account, value, pending_value]\n",
       "Index: []"
      ]
     },
     "metadata": {},
     "output_type": "display_data"
    },
    {
     "name": "stdout",
     "output_type": "stream",
     "text": [
      "C18-1N-33^2022-01-01\n"
     ]
    },
    {
     "data": {
      "text/html": [
       "<div>\n",
       "<style scoped>\n",
       "    .dataframe tbody tr th:only-of-type {\n",
       "        vertical-align: middle;\n",
       "    }\n",
       "\n",
       "    .dataframe tbody tr th {\n",
       "        vertical-align: top;\n",
       "    }\n",
       "\n",
       "    .dataframe thead th {\n",
       "        text-align: right;\n",
       "    }\n",
       "</style>\n",
       "<table border=\"1\" class=\"dataframe\">\n",
       "  <thead>\n",
       "    <tr style=\"text-align: right;\">\n",
       "      <th></th>\n",
       "      <th>ledger</th>\n",
       "      <th>date</th>\n",
       "      <th>third_party</th>\n",
       "      <th>accountable</th>\n",
       "      <th>concept</th>\n",
       "      <th>concept__date</th>\n",
       "      <th>account</th>\n",
       "      <th>value</th>\n",
       "      <th>pending_value</th>\n",
       "    </tr>\n",
       "  </thead>\n",
       "  <tbody>\n",
       "    <tr>\n",
       "      <th>47</th>\n",
       "      <td>FV-00000013</td>\n",
       "      <td>2022-03-01</td>\n",
       "      <td>Productos de Caucho y Lona S.A.S.</td>\n",
       "      <td>C18-1N-33^2022-01-01</td>\n",
       "      <td>Mensualidad Arriendo Inmueble</td>\n",
       "      <td>2022-03-01</td>\n",
       "      <td>Arriendos inmuebles de terceros por recibir</td>\n",
       "      <td>-1000000</td>\n",
       "      <td>1000000</td>\n",
       "    </tr>\n",
       "  </tbody>\n",
       "</table>\n",
       "</div>"
      ],
      "text/plain": [
       "         ledger        date                        third_party  \\\n",
       "47  FV-00000013  2022-03-01  Productos de Caucho y Lona S.A.S.   \n",
       "\n",
       "             accountable                        concept concept__date  \\\n",
       "47  C18-1N-33^2022-01-01  Mensualidad Arriendo Inmueble    2022-03-01   \n",
       "\n",
       "                                        account    value  pending_value  \n",
       "47  Arriendos inmuebles de terceros por recibir -1000000        1000000  "
      ]
     },
     "metadata": {},
     "output_type": "display_data"
    },
    {
     "name": "stdout",
     "output_type": "stream",
     "text": [
      "C31-1B-64^2022-01-15\n"
     ]
    },
    {
     "data": {
      "text/html": [
       "<div>\n",
       "<style scoped>\n",
       "    .dataframe tbody tr th:only-of-type {\n",
       "        vertical-align: middle;\n",
       "    }\n",
       "\n",
       "    .dataframe tbody tr th {\n",
       "        vertical-align: top;\n",
       "    }\n",
       "\n",
       "    .dataframe thead th {\n",
       "        text-align: right;\n",
       "    }\n",
       "</style>\n",
       "<table border=\"1\" class=\"dataframe\">\n",
       "  <thead>\n",
       "    <tr style=\"text-align: right;\">\n",
       "      <th></th>\n",
       "      <th>ledger</th>\n",
       "      <th>date</th>\n",
       "      <th>third_party</th>\n",
       "      <th>accountable</th>\n",
       "      <th>concept</th>\n",
       "      <th>concept__date</th>\n",
       "      <th>account</th>\n",
       "      <th>value</th>\n",
       "      <th>pending_value</th>\n",
       "    </tr>\n",
       "  </thead>\n",
       "  <tbody>\n",
       "  </tbody>\n",
       "</table>\n",
       "</div>"
      ],
      "text/plain": [
       "Empty DataFrame\n",
       "Columns: [ledger, date, third_party, accountable, concept, concept__date, account, value, pending_value]\n",
       "Index: []"
      ]
     },
     "metadata": {},
     "output_type": "display_data"
    },
    {
     "name": "stdout",
     "output_type": "stream",
     "text": [
      "K1B-30-16^2022-01-31\n"
     ]
    },
    {
     "data": {
      "text/html": [
       "<div>\n",
       "<style scoped>\n",
       "    .dataframe tbody tr th:only-of-type {\n",
       "        vertical-align: middle;\n",
       "    }\n",
       "\n",
       "    .dataframe tbody tr th {\n",
       "        vertical-align: top;\n",
       "    }\n",
       "\n",
       "    .dataframe thead th {\n",
       "        text-align: right;\n",
       "    }\n",
       "</style>\n",
       "<table border=\"1\" class=\"dataframe\">\n",
       "  <thead>\n",
       "    <tr style=\"text-align: right;\">\n",
       "      <th></th>\n",
       "      <th>ledger</th>\n",
       "      <th>date</th>\n",
       "      <th>third_party</th>\n",
       "      <th>accountable</th>\n",
       "      <th>concept</th>\n",
       "      <th>concept__date</th>\n",
       "      <th>account</th>\n",
       "      <th>value</th>\n",
       "      <th>pending_value</th>\n",
       "    </tr>\n",
       "  </thead>\n",
       "  <tbody>\n",
       "  </tbody>\n",
       "</table>\n",
       "</div>"
      ],
      "text/plain": [
       "Empty DataFrame\n",
       "Columns: [ledger, date, third_party, accountable, concept, concept__date, account, value, pending_value]\n",
       "Index: []"
      ]
     },
     "metadata": {},
     "output_type": "display_data"
    },
    {
     "name": "stdout",
     "output_type": "stream",
     "text": [
      "K2C-30-15-B3^2022-01-01\n"
     ]
    },
    {
     "data": {
      "text/html": [
       "<div>\n",
       "<style scoped>\n",
       "    .dataframe tbody tr th:only-of-type {\n",
       "        vertical-align: middle;\n",
       "    }\n",
       "\n",
       "    .dataframe tbody tr th {\n",
       "        vertical-align: top;\n",
       "    }\n",
       "\n",
       "    .dataframe thead th {\n",
       "        text-align: right;\n",
       "    }\n",
       "</style>\n",
       "<table border=\"1\" class=\"dataframe\">\n",
       "  <thead>\n",
       "    <tr style=\"text-align: right;\">\n",
       "      <th></th>\n",
       "      <th>ledger</th>\n",
       "      <th>date</th>\n",
       "      <th>third_party</th>\n",
       "      <th>accountable</th>\n",
       "      <th>concept</th>\n",
       "      <th>concept__date</th>\n",
       "      <th>account</th>\n",
       "      <th>value</th>\n",
       "      <th>pending_value</th>\n",
       "    </tr>\n",
       "  </thead>\n",
       "  <tbody>\n",
       "    <tr>\n",
       "      <th>43</th>\n",
       "      <td>FV-00000012</td>\n",
       "      <td>2022-03-01</td>\n",
       "      <td>Actividades Textiles S.A.S.</td>\n",
       "      <td>K2C-30-15-B3^2022-01-01</td>\n",
       "      <td>Mensualidad Arriendo Inmueble</td>\n",
       "      <td>2022-03-01</td>\n",
       "      <td>Arriendos inmuebles de terceros por recibir</td>\n",
       "      <td>-1500000</td>\n",
       "      <td>1250000</td>\n",
       "    </tr>\n",
       "  </tbody>\n",
       "</table>\n",
       "</div>"
      ],
      "text/plain": [
       "         ledger        date                  third_party  \\\n",
       "43  FV-00000012  2022-03-01  Actividades Textiles S.A.S.   \n",
       "\n",
       "                accountable                        concept concept__date  \\\n",
       "43  K2C-30-15-B3^2022-01-01  Mensualidad Arriendo Inmueble    2022-03-01   \n",
       "\n",
       "                                        account    value  pending_value  \n",
       "43  Arriendos inmuebles de terceros por recibir -1500000        1250000  "
      ]
     },
     "metadata": {},
     "output_type": "display_data"
    }
   ],
   "source": [
    "ledger_groups = ledger\\\n",
    "        .sort_values(['accountable', 'date'])\\\n",
    "        .query('account in [913005]')\\\n",
    "        .groupby('accountable')\n",
    "\n",
    "for g_name, g_df in ledger_groups:\n",
    "    print(g_name)\n",
    "    display(charges_pending(g_df, False))"
   ]
  },
  {
   "cell_type": "code",
   "execution_count": 3,
   "id": "fdffaea3",
   "metadata": {},
   "outputs": [
    {
     "data": {
      "text/html": [
       "<div>\n",
       "<style scoped>\n",
       "    .dataframe tbody tr th:only-of-type {\n",
       "        vertical-align: middle;\n",
       "    }\n",
       "\n",
       "    .dataframe tbody tr th {\n",
       "        vertical-align: top;\n",
       "    }\n",
       "\n",
       "    .dataframe thead th {\n",
       "        text-align: right;\n",
       "    }\n",
       "</style>\n",
       "<table border=\"1\" class=\"dataframe\">\n",
       "  <thead>\n",
       "    <tr style=\"text-align: right;\">\n",
       "      <th></th>\n",
       "      <th>ledger</th>\n",
       "      <th>date</th>\n",
       "      <th>third_party</th>\n",
       "      <th>accountable</th>\n",
       "      <th>concept</th>\n",
       "      <th>concept__date</th>\n",
       "      <th>account</th>\n",
       "      <th>value</th>\n",
       "      <th>pending_value</th>\n",
       "    </tr>\n",
       "  </thead>\n",
       "  <tbody>\n",
       "    <tr>\n",
       "      <th>2</th>\n",
       "      <td>FV-00000001</td>\n",
       "      <td>2022-01-01</td>\n",
       "      <td>Actividades Textiles S.A.S.</td>\n",
       "      <td>K2C-30-15-B3^2022-01-01</td>\n",
       "      <td>Mensualidad Arriendo Inmueble</td>\n",
       "      <td>2022-01-01</td>\n",
       "      <td>IVA externo por pagar</td>\n",
       "      <td>-285000</td>\n",
       "      <td>285000</td>\n",
       "    </tr>\n",
       "    <tr>\n",
       "      <th>6</th>\n",
       "      <td>FV-00000002</td>\n",
       "      <td>2022-01-10</td>\n",
       "      <td>Productos de Caucho y Lona S.A.S.</td>\n",
       "      <td>C18-1N-33^2022-01-01</td>\n",
       "      <td>Mensualidad Arriendo Inmueble</td>\n",
       "      <td>2022-01-10</td>\n",
       "      <td>IVA externo por pagar</td>\n",
       "      <td>-134839</td>\n",
       "      <td>134839</td>\n",
       "    </tr>\n",
       "    <tr>\n",
       "      <th>14</th>\n",
       "      <td>FV-00000004</td>\n",
       "      <td>2022-01-15</td>\n",
       "      <td>Granos y Proteinas S.A.S.</td>\n",
       "      <td>K1B-30-16^2022-01-31</td>\n",
       "      <td>Mensualidad Arriendo Inmueble</td>\n",
       "      <td>2022-01-15</td>\n",
       "      <td>IVA externo por pagar</td>\n",
       "      <td>-304000</td>\n",
       "      <td>304000</td>\n",
       "    </tr>\n",
       "    <tr>\n",
       "      <th>10</th>\n",
       "      <td>FV-00000003</td>\n",
       "      <td>2022-01-15</td>\n",
       "      <td>Asoboce S.A.S.</td>\n",
       "      <td>C31-1B-64^2022-01-15</td>\n",
       "      <td>Mensualidad Arriendo Inmueble</td>\n",
       "      <td>2022-01-15</td>\n",
       "      <td>IVA externo por pagar</td>\n",
       "      <td>-380000</td>\n",
       "      <td>380000</td>\n",
       "    </tr>\n",
       "    <tr>\n",
       "      <th>18</th>\n",
       "      <td>FV-00000005</td>\n",
       "      <td>2022-01-31</td>\n",
       "      <td>Granos y Proteinas S.A.S.</td>\n",
       "      <td>K1B-30-16^2022-01-31</td>\n",
       "      <td>Mensualidad Arriendo Inmueble</td>\n",
       "      <td>2022-01-31</td>\n",
       "      <td>IVA externo por pagar</td>\n",
       "      <td>-570000</td>\n",
       "      <td>570000</td>\n",
       "    </tr>\n",
       "    <tr>\n",
       "      <th>26</th>\n",
       "      <td>FV-00000007</td>\n",
       "      <td>2022-02-01</td>\n",
       "      <td>Productos de Caucho y Lona S.A.S.</td>\n",
       "      <td>C18-1N-33^2022-01-01</td>\n",
       "      <td>Mensualidad Arriendo Inmueble</td>\n",
       "      <td>2022-02-01</td>\n",
       "      <td>IVA externo por pagar</td>\n",
       "      <td>-190000</td>\n",
       "      <td>190000</td>\n",
       "    </tr>\n",
       "    <tr>\n",
       "      <th>22</th>\n",
       "      <td>FV-00000006</td>\n",
       "      <td>2022-02-01</td>\n",
       "      <td>Actividades Textiles S.A.S.</td>\n",
       "      <td>K2C-30-15-B3^2022-01-01</td>\n",
       "      <td>Mensualidad Arriendo Inmueble</td>\n",
       "      <td>2022-02-01</td>\n",
       "      <td>IVA externo por pagar</td>\n",
       "      <td>-285000</td>\n",
       "      <td>285000</td>\n",
       "    </tr>\n",
       "    <tr>\n",
       "      <th>32</th>\n",
       "      <td>FV-00000009</td>\n",
       "      <td>2022-02-15</td>\n",
       "      <td>Asoboce S.A.S.</td>\n",
       "      <td>C31-1B-64^2022-01-15</td>\n",
       "      <td>Mensualidad Arriendo Inmueble</td>\n",
       "      <td>2022-02-15</td>\n",
       "      <td>IVA externo por pagar</td>\n",
       "      <td>-380000</td>\n",
       "      <td>380000</td>\n",
       "    </tr>\n",
       "    <tr>\n",
       "      <th>36</th>\n",
       "      <td>FV-00000010</td>\n",
       "      <td>2022-02-28</td>\n",
       "      <td>Granos y Proteinas S.A.S.</td>\n",
       "      <td>K1B-30-16^2022-01-31</td>\n",
       "      <td>Mensualidad Arriendo Inmueble</td>\n",
       "      <td>2022-02-28</td>\n",
       "      <td>IVA externo por pagar</td>\n",
       "      <td>-570000</td>\n",
       "      <td>570000</td>\n",
       "    </tr>\n",
       "    <tr>\n",
       "      <th>46</th>\n",
       "      <td>FV-00000013</td>\n",
       "      <td>2022-03-01</td>\n",
       "      <td>Productos de Caucho y Lona S.A.S.</td>\n",
       "      <td>C18-1N-33^2022-01-01</td>\n",
       "      <td>Mensualidad Arriendo Inmueble</td>\n",
       "      <td>2022-03-01</td>\n",
       "      <td>IVA externo por pagar</td>\n",
       "      <td>-190000</td>\n",
       "      <td>190000</td>\n",
       "    </tr>\n",
       "    <tr>\n",
       "      <th>42</th>\n",
       "      <td>FV-00000012</td>\n",
       "      <td>2022-03-01</td>\n",
       "      <td>Actividades Textiles S.A.S.</td>\n",
       "      <td>K2C-30-15-B3^2022-01-01</td>\n",
       "      <td>Mensualidad Arriendo Inmueble</td>\n",
       "      <td>2022-03-01</td>\n",
       "      <td>IVA externo por pagar</td>\n",
       "      <td>-285000</td>\n",
       "      <td>285000</td>\n",
       "    </tr>\n",
       "    <tr>\n",
       "      <th>50</th>\n",
       "      <td>FV-00000014</td>\n",
       "      <td>2022-03-15</td>\n",
       "      <td>Asoboce S.A.S.</td>\n",
       "      <td>C31-1B-64^2022-01-15</td>\n",
       "      <td>Mensualidad Arriendo Inmueble</td>\n",
       "      <td>2022-03-15</td>\n",
       "      <td>IVA externo por pagar</td>\n",
       "      <td>-380000</td>\n",
       "      <td>380000</td>\n",
       "    </tr>\n",
       "  </tbody>\n",
       "</table>\n",
       "</div>"
      ],
      "text/plain": [
       "         ledger        date                        third_party  \\\n",
       "2   FV-00000001  2022-01-01        Actividades Textiles S.A.S.   \n",
       "6   FV-00000002  2022-01-10  Productos de Caucho y Lona S.A.S.   \n",
       "14  FV-00000004  2022-01-15          Granos y Proteinas S.A.S.   \n",
       "10  FV-00000003  2022-01-15                     Asoboce S.A.S.   \n",
       "18  FV-00000005  2022-01-31          Granos y Proteinas S.A.S.   \n",
       "26  FV-00000007  2022-02-01  Productos de Caucho y Lona S.A.S.   \n",
       "22  FV-00000006  2022-02-01        Actividades Textiles S.A.S.   \n",
       "32  FV-00000009  2022-02-15                     Asoboce S.A.S.   \n",
       "36  FV-00000010  2022-02-28          Granos y Proteinas S.A.S.   \n",
       "46  FV-00000013  2022-03-01  Productos de Caucho y Lona S.A.S.   \n",
       "42  FV-00000012  2022-03-01        Actividades Textiles S.A.S.   \n",
       "50  FV-00000014  2022-03-15                     Asoboce S.A.S.   \n",
       "\n",
       "                accountable                        concept concept__date  \\\n",
       "2   K2C-30-15-B3^2022-01-01  Mensualidad Arriendo Inmueble    2022-01-01   \n",
       "6      C18-1N-33^2022-01-01  Mensualidad Arriendo Inmueble    2022-01-10   \n",
       "14     K1B-30-16^2022-01-31  Mensualidad Arriendo Inmueble    2022-01-15   \n",
       "10     C31-1B-64^2022-01-15  Mensualidad Arriendo Inmueble    2022-01-15   \n",
       "18     K1B-30-16^2022-01-31  Mensualidad Arriendo Inmueble    2022-01-31   \n",
       "26     C18-1N-33^2022-01-01  Mensualidad Arriendo Inmueble    2022-02-01   \n",
       "22  K2C-30-15-B3^2022-01-01  Mensualidad Arriendo Inmueble    2022-02-01   \n",
       "32     C31-1B-64^2022-01-15  Mensualidad Arriendo Inmueble    2022-02-15   \n",
       "36     K1B-30-16^2022-01-31  Mensualidad Arriendo Inmueble    2022-02-28   \n",
       "46     C18-1N-33^2022-01-01  Mensualidad Arriendo Inmueble    2022-03-01   \n",
       "42  K2C-30-15-B3^2022-01-01  Mensualidad Arriendo Inmueble    2022-03-01   \n",
       "50     C31-1B-64^2022-01-15  Mensualidad Arriendo Inmueble    2022-03-15   \n",
       "\n",
       "                  account   value  pending_value  \n",
       "2   IVA externo por pagar -285000         285000  \n",
       "6   IVA externo por pagar -134839         134839  \n",
       "14  IVA externo por pagar -304000         304000  \n",
       "10  IVA externo por pagar -380000         380000  \n",
       "18  IVA externo por pagar -570000         570000  \n",
       "26  IVA externo por pagar -190000         190000  \n",
       "22  IVA externo por pagar -285000         285000  \n",
       "32  IVA externo por pagar -380000         380000  \n",
       "36  IVA externo por pagar -570000         570000  \n",
       "46  IVA externo por pagar -190000         190000  \n",
       "42  IVA externo por pagar -285000         285000  \n",
       "50  IVA externo por pagar -380000         380000  "
      ]
     },
     "execution_count": 3,
     "metadata": {},
     "output_type": "execute_result"
    }
   ],
   "source": [
    "query = ledger\\\n",
    "        .sort_values(['date'])\\\n",
    "        .query('account in [240810]')        \n",
    "\n",
    "charges_pending(query, False)"
   ]
  },
  {
   "cell_type": "code",
   "execution_count": 3,
   "id": "4089149b",
   "metadata": {},
   "outputs": [],
   "source": [
    "def charge_concept(_accountable, _transaction_type, _date, _user):\n",
    "    try:\n",
    "        charge_concept = Charge_Concept.objects.get(\n",
    "            accountable=accountable.accountable_ptr,\n",
    "            transaction_type=_transaction_type,\n",
    "            date=_date\n",
    "        )\n",
    "        create = False\n",
    "    except:\n",
    "        charge_concept = Charge_Concept(\n",
    "            state_change_user=_user,\n",
    "            accountable=accountable.accountable_ptr,\n",
    "            transaction_type=_transaction_type,\n",
    "            date=_date\n",
    "        )\n",
    "        charge_concept.save()\n",
    "        create = True\n",
    "    return charge_concept, create"
   ]
  },
  {
   "cell_type": "code",
   "execution_count": 4,
   "id": "a3aea5a3",
   "metadata": {},
   "outputs": [],
   "source": [
    "def ledger_from_template(accountable, _ledger_template, _date, _value, _user):\n",
    "    charge_concept, create = charge_concept(accountable, _ledger_template.transaction_type, _date, _user)\n",
    "    \n",
    "    if created:\n",
    "        ledger = Ledger(\n",
    "            state_change_user=_user,\n",
    "            type=_ledger_template.ledger_type,\n",
    "            holder=accountable.accounting_holder(),\n",
    "            third_party=accountable.accounting_third_party(),\n",
    "            date=datetime.date.today()\n",
    "        )\n",
    "        ledger.save()\n",
    "\n",
    "        for charge_template in ledger_template.charges_templates.all():\n",
    "            Charge(\n",
    "                state_change_user=_user,\n",
    "                ledger=ledger,\n",
    "                account=charge_template.account,\n",
    "                value=charge_template.factor.factored_value(accountable.accountable_ptr, _date, _value, charge_template.nature),\n",
    "                concept=charge_concept\n",
    "            ).save()\n",
    "    else:\n",
    "        charges = Charge.objects.filter(concept=charge_concept, ledger__type=_ledger_template.ledger_type)"
   ]
  },
  {
   "cell_type": "code",
   "execution_count": 3,
   "id": "413b3cde",
   "metadata": {},
   "outputs": [],
   "source": [
    "lease = Lease_Realty.objects.all()[0]\n",
    "accountable = lease.accountable_ptr\n",
    "holder = lease.accounting_holder()\n",
    "third_party = lease.accounting_third_party()\n",
    "date_value_dict = lease.date_value_dict()\n",
    "\n",
    "ledger_template = Ledger_Template.objects.all()[1]\n",
    "transaction_type = ledger_template.transaction_type\n",
    "ledger_type = ledger_template.ledger_type\n",
    "charges_templates = ledger_template.charges_templates.all()\n",
    "\n",
    "user = User.objects.all()[0]"
   ]
  },
  {
   "cell_type": "code",
   "execution_count": 3,
   "id": "f838d08d",
   "metadata": {},
   "outputs": [],
   "source": [
    "for _date, _value in date_value_dict.items():\n",
    "    ledger_from_template(lease, ledger_template, _date, _value, user)"
   ]
  },
  {
   "cell_type": "code",
   "execution_count": 2,
   "id": "ed849c9c",
   "metadata": {},
   "outputs": [],
   "source": [
    "charge_concept = Charge_Concept.objects.all()[0]\n",
    "ledger = Ledger.objects.all()[0]\n",
    "\n",
    "charges = []\n",
    "for charge_template in ledger_template.charges_templates.all():\n",
    "    charge = Charge(\n",
    "        state_change_user=user,\n",
    "        ledger=ledger,\n",
    "        account=charge_template.account,\n",
    "        value=charge_template.factor.factored_value(lease.accountable_ptr, next(iter(date_value_dict)), date_value_dict[next(iter(date_value_dict))], charge_template.nature),\n",
    "        concept=charge_concept\n",
    "    ).save()\n",
    "    charges.append(charge)"
   ]
  },
  {
   "cell_type": "code",
   "execution_count": 5,
   "id": "ac9a63bb",
   "metadata": {},
   "outputs": [
    {
     "data": {
      "text/plain": [
       "<QuerySet [<Charge: FV-00000001^2022-01-01_Actividades Textiles S.A.S._13802005_Mensualidad Arriendo Inmueble^2022-01-01_K2C-30-15-B3^2022-01-01>, <Charge: FV-00000001^2022-01-01_Actividades Textiles S.A.S._13802010_Mensualidad Arriendo Inmueble^2022-01-01_K2C-30-15-B3^2022-01-01>, <Charge: FV-00000001^2022-01-01_Actividades Textiles S.A.S._240810_Mensualidad Arriendo Inmueble^2022-01-01_K2C-30-15-B3^2022-01-01>, <Charge: FV-00000001^2022-01-01_Actividades Textiles S.A.S._913005_Mensualidad Arriendo Inmueble^2022-01-01_K2C-30-15-B3^2022-01-01>]>"
      ]
     },
     "execution_count": 5,
     "metadata": {},
     "output_type": "execute_result"
    }
   ],
   "source": [
    "charge_concept = Charge_Concept.objects.all()[0]\n",
    "ledger = Ledger.objects.all()[0]\n",
    "charges = Charge.objects.filter(concept=charge_concept, ledger__type=ledger_template.ledger_type)\n",
    "charges"
   ]
  },
  {
   "cell_type": "code",
   "execution_count": 6,
   "id": "cabbea57",
   "metadata": {},
   "outputs": [
    {
     "data": {
      "text/plain": [
       "<QuerySet [<Ledger: FV-00000001^2022-01-01_Actividades Textiles S.A.S.>, <Ledger: FV-00000001^2022-01-01_Actividades Textiles S.A.S.>, <Ledger: FV-00000001^2022-01-01_Actividades Textiles S.A.S.>, <Ledger: FV-00000001^2022-01-01_Actividades Textiles S.A.S.>]>"
      ]
     },
     "execution_count": 6,
     "metadata": {},
     "output_type": "execute_result"
    }
   ],
   "source": [
    "cha_con = Charge_Concept.objects.all()[0]\n",
    "led_typ = Ledger_Type.objects.all()[0]\n",
    "Ledger.objects.filter(charge__concept=cha_con, type=led_typ)"
   ]
  },
  {
   "cell_type": "code",
   "execution_count": 4,
   "id": "07eaa185",
   "metadata": {},
   "outputs": [
    {
     "data": {
      "text/plain": [
       "<Lease_Realty: K2C-30-15-B3^2022-01-01>"
      ]
     },
     "execution_count": 4,
     "metadata": {},
     "output_type": "execute_result"
    }
   ],
   "source": [
    "lea_rea = Lease_Realty.objects.all()[0]\n",
    "lea_rea"
   ]
  },
  {
   "cell_type": "code",
   "execution_count": 13,
   "id": "c691b300",
   "metadata": {},
   "outputs": [
    {
     "data": {
      "text/plain": [
       "<QuerySet []>"
      ]
     },
     "execution_count": 13,
     "metadata": {},
     "output_type": "execute_result"
    }
   ],
   "source": [
    "adr.leases_realties_people.all()"
   ]
  },
  {
   "cell_type": "code",
   "execution_count": 5,
   "id": "b6b54697",
   "metadata": {},
   "outputs": [
    {
     "name": "stdout",
     "output_type": "stream",
     "text": [
      "charge_concept\n",
      "dates_values\n",
      "lease_realty_realty\n",
      "lease_realty_person\n"
     ]
    }
   ],
   "source": [
    "for field in lea_rea._meta._get_fields(forward=False, reverse=True):\n",
    "    if field.is_relation:\n",
    "            print(field.name)"
   ]
  },
  {
   "cell_type": "code",
   "execution_count": 17,
   "id": "6150a27e",
   "metadata": {},
   "outputs": [
    {
     "ename": "TypeError",
     "evalue": "from_related() missing 2 required positional arguments: 'obj1' and 'obj2'",
     "output_type": "error",
     "traceback": [
      "\u001b[0;31m---------------------------------------------------------------------------\u001b[0m",
      "\u001b[0;31mTypeError\u001b[0m                                 Traceback (most recent call last)",
      "\u001b[0;32m/tmp/ipykernel_3315/1755786977.py\u001b[0m in \u001b[0;36m<module>\u001b[0;34m\u001b[0m\n\u001b[1;32m      2\u001b[0m     \u001b[0;32mif\u001b[0m \u001b[0mfield\u001b[0m\u001b[0;34m.\u001b[0m\u001b[0mis_relation\u001b[0m\u001b[0;34m:\u001b[0m\u001b[0;34m\u001b[0m\u001b[0;34m\u001b[0m\u001b[0m\n\u001b[1;32m      3\u001b[0m         \u001b[0;32mif\u001b[0m \u001b[0mfield\u001b[0m\u001b[0;34m.\u001b[0m\u001b[0mmany_to_many\u001b[0m\u001b[0;34m:\u001b[0m\u001b[0;34m\u001b[0m\u001b[0;34m\u001b[0m\u001b[0m\n\u001b[0;32m----> 4\u001b[0;31m              \u001b[0mprint\u001b[0m\u001b[0;34m(\u001b[0m\u001b[0mfield\u001b[0m\u001b[0;34m.\u001b[0m\u001b[0mthrough\u001b[0m\u001b[0;34m.\u001b[0m\u001b[0mfind\u001b[0m\u001b[0;34m.\u001b[0m\u001b[0mfrom_related\u001b[0m\u001b[0;34m(\u001b[0m\u001b[0;34m)\u001b[0m\u001b[0;34m)\u001b[0m\u001b[0;34m\u001b[0m\u001b[0;34m\u001b[0m\u001b[0m\n\u001b[0m",
      "\u001b[0;31mTypeError\u001b[0m: from_related() missing 2 required positional arguments: 'obj1' and 'obj2'"
     ]
    }
   ],
   "source": [
    "for field in adr._meta._get_fields(forward=False, reverse=True):\n",
    "    if field.is_relation:\n",
    "        if field.many_to_many:\n",
    "             print(field.through.find.from_related())"
   ]
  },
  {
   "cell_type": "code",
   "execution_count": 20,
   "id": "e6dbdaf1",
   "metadata": {},
   "outputs": [
    {
     "name": "stdout",
     "output_type": "stream",
     "text": [
      "charge\n"
     ]
    }
   ],
   "source": [
    "obj = Ledger.objects.all()[0]\n",
    "for field in obj._meta._get_fields(forward=False, reverse=True, include_hidden=True):\n",
    "    if field.is_relation:\n",
    "            print(field.name)"
   ]
  },
  {
   "cell_type": "code",
   "execution_count": 59,
   "id": "e1ad386f",
   "metadata": {},
   "outputs": [
    {
     "data": {
      "text/plain": [
       "['FORWARD_PROPERTIES',\n",
       " 'REVERSE_PROPERTIES',\n",
       " '__class__',\n",
       " '__delattr__',\n",
       " '__dict__',\n",
       " '__dir__',\n",
       " '__doc__',\n",
       " '__eq__',\n",
       " '__format__',\n",
       " '__ge__',\n",
       " '__getattribute__',\n",
       " '__gt__',\n",
       " '__hash__',\n",
       " '__init__',\n",
       " '__init_subclass__',\n",
       " '__le__',\n",
       " '__lt__',\n",
       " '__module__',\n",
       " '__ne__',\n",
       " '__new__',\n",
       " '__reduce__',\n",
       " '__reduce_ex__',\n",
       " '__repr__',\n",
       " '__setattr__',\n",
       " '__sizeof__',\n",
       " '__str__',\n",
       " '__subclasshook__',\n",
       " '__weakref__',\n",
       " '_expire_cache',\n",
       " '_format_names_with_class',\n",
       " '_forward_fields_map',\n",
       " '_get_default_pk_class',\n",
       " '_get_fields',\n",
       " '_get_fields_cache',\n",
       " '_ordering_clash',\n",
       " '_populate_directed_relation_graph',\n",
       " '_prepare',\n",
       " '_property_names',\n",
       " '_relation_tree',\n",
       " 'abstract',\n",
       " 'add_field',\n",
       " 'add_manager',\n",
       " 'app_config',\n",
       " 'app_label',\n",
       " 'apps',\n",
       " 'auto_created',\n",
       " 'auto_field',\n",
       " 'base_manager',\n",
       " 'base_manager_name',\n",
       " 'can_migrate',\n",
       " 'concrete_fields',\n",
       " 'concrete_model',\n",
       " 'constraints',\n",
       " 'contribute_to_class',\n",
       " 'db_returning_fields',\n",
       " 'db_table',\n",
       " 'db_tablespace',\n",
       " 'default_apps',\n",
       " 'default_manager',\n",
       " 'default_manager_name',\n",
       " 'default_permissions',\n",
       " 'default_related_name',\n",
       " 'fields',\n",
       " 'fields_map',\n",
       " 'get_ancestor_link',\n",
       " 'get_base_chain',\n",
       " 'get_field',\n",
       " 'get_fields',\n",
       " 'get_latest_by',\n",
       " 'get_parent_list',\n",
       " 'get_path_from_parent',\n",
       " 'get_path_to_parent',\n",
       " 'index_together',\n",
       " 'indexes',\n",
       " 'installed',\n",
       " 'label',\n",
       " 'label_lower',\n",
       " 'local_concrete_fields',\n",
       " 'local_fields',\n",
       " 'local_managers',\n",
       " 'local_many_to_many',\n",
       " 'managed',\n",
       " 'managers',\n",
       " 'managers_map',\n",
       " 'many_to_many',\n",
       " 'model',\n",
       " 'model_name',\n",
       " 'object_name',\n",
       " 'order_with_respect_to',\n",
       " 'ordering',\n",
       " 'original_attrs',\n",
       " 'parents',\n",
       " 'permissions',\n",
       " 'pk',\n",
       " 'private_fields',\n",
       " 'proxy',\n",
       " 'proxy_for_model',\n",
       " 'related_fkey_lookups',\n",
       " 'related_objects',\n",
       " 'required_db_features',\n",
       " 'required_db_vendor',\n",
       " 'select_on_save',\n",
       " 'setup_pk',\n",
       " 'setup_proxy',\n",
       " 'swappable',\n",
       " 'swapped',\n",
       " 'total_unique_constraints',\n",
       " 'unique_together',\n",
       " 'verbose_name',\n",
       " 'verbose_name_plural',\n",
       " 'verbose_name_raw']"
      ]
     },
     "execution_count": 59,
     "metadata": {},
     "output_type": "execute_result"
    }
   ],
   "source": [
    "dir(per._meta)"
   ]
  },
  {
   "cell_type": "code",
   "execution_count": 66,
   "id": "9a3c3982",
   "metadata": {},
   "outputs": [
    {
     "name": "stdout",
     "output_type": "stream",
     "text": [
      "<OneToOneRel: people.person_natural>\n",
      "<OneToOneRel: people.person_legal>\n",
      "<ManyToOneRel: people.person_phone>\n",
      "<ManyToOneRel: people.person_address>\n",
      "<ManyToOneRel: people.person_e_mail>\n",
      "<ManyToManyRel: properties.estate>\n",
      "<ManyToOneRel: properties.estate_person>\n",
      "<ManyToOneRel: accounting.ledger>\n",
      "<ManyToOneRel: accounting.ledger>\n",
      "<ManyToManyRel: accountables.lease_realty>\n",
      "<ManyToOneRel: accountables.lease_realty_person>\n"
     ]
    }
   ],
   "source": [
    "for obj in per._meta.related_objects:\n",
    "    print(obj)"
   ]
  },
  {
   "cell_type": "code",
   "execution_count": 64,
   "id": "7b7f76dc",
   "metadata": {},
   "outputs": [
    {
     "name": "stdout",
     "output_type": "stream",
     "text": [
      "['__class__', '__delattr__', '__dict__', '__dir__', '__doc__', '__eq__', '__format__', '__ge__', '__getattribute__', '__getstate__', '__gt__', '__hash__', '__init__', '__init_subclass__', '__le__', '__lt__', '__module__', '__ne__', '__new__', '__reduce__', '__reduce_ex__', '__repr__', '__setattr__', '__sizeof__', '__str__', '__subclasshook__', '__weakref__', 'auto_created', 'concrete', 'db_type', 'delete_cached_value', 'editable', 'empty_strings_allowed', 'field', 'field_name', 'get_accessor_name', 'get_cache_name', 'get_cached_value', 'get_choices', 'get_extra_restriction', 'get_internal_type', 'get_joining_columns', 'get_lookup', 'get_path_info', 'get_related_field', 'hidden', 'identity', 'is_cached', 'is_hidden', 'is_relation', 'limit_choices_to', 'many_to_many', 'many_to_one', 'model', 'multiple', 'name', 'null', 'on_delete', 'one_to_many', 'one_to_one', 'parent_link', 'related_model', 'related_name', 'related_query_name', 'remote_field', 'set_cached_value', 'set_field_name', 'symmetrical', 'target_field']\n",
      "['__class__', '__delattr__', '__dict__', '__dir__', '__doc__', '__eq__', '__format__', '__ge__', '__getattribute__', '__getstate__', '__gt__', '__hash__', '__init__', '__init_subclass__', '__le__', '__lt__', '__module__', '__ne__', '__new__', '__reduce__', '__reduce_ex__', '__repr__', '__setattr__', '__sizeof__', '__str__', '__subclasshook__', '__weakref__', 'auto_created', 'concrete', 'db_type', 'delete_cached_value', 'editable', 'empty_strings_allowed', 'field', 'field_name', 'get_accessor_name', 'get_cache_name', 'get_cached_value', 'get_choices', 'get_extra_restriction', 'get_internal_type', 'get_joining_columns', 'get_lookup', 'get_path_info', 'get_related_field', 'hidden', 'identity', 'is_cached', 'is_hidden', 'is_relation', 'limit_choices_to', 'many_to_many', 'many_to_one', 'model', 'multiple', 'name', 'null', 'on_delete', 'one_to_many', 'one_to_one', 'parent_link', 'related_model', 'related_name', 'related_query_name', 'remote_field', 'set_cached_value', 'set_field_name', 'symmetrical', 'target_field']\n",
      "['__class__', '__delattr__', '__dict__', '__dir__', '__doc__', '__eq__', '__format__', '__ge__', '__getattribute__', '__getstate__', '__gt__', '__hash__', '__init__', '__init_subclass__', '__le__', '__lt__', '__module__', '__ne__', '__new__', '__reduce__', '__reduce_ex__', '__repr__', '__setattr__', '__sizeof__', '__str__', '__subclasshook__', '__weakref__', 'auto_created', 'concrete', 'db_type', 'delete_cached_value', 'editable', 'empty_strings_allowed', 'field', 'field_name', 'get_accessor_name', 'get_cache_name', 'get_cached_value', 'get_choices', 'get_extra_restriction', 'get_internal_type', 'get_joining_columns', 'get_lookup', 'get_path_info', 'get_related_field', 'hidden', 'identity', 'is_cached', 'is_hidden', 'is_relation', 'limit_choices_to', 'many_to_many', 'many_to_one', 'model', 'multiple', 'name', 'null', 'on_delete', 'one_to_many', 'one_to_one', 'parent_link', 'related_model', 'related_name', 'related_query_name', 'remote_field', 'set_cached_value', 'set_field_name', 'symmetrical', 'target_field']\n",
      "['__class__', '__delattr__', '__dict__', '__dir__', '__doc__', '__eq__', '__format__', '__ge__', '__getattribute__', '__getstate__', '__gt__', '__hash__', '__init__', '__init_subclass__', '__le__', '__lt__', '__module__', '__ne__', '__new__', '__reduce__', '__reduce_ex__', '__repr__', '__setattr__', '__sizeof__', '__str__', '__subclasshook__', '__weakref__', 'auto_created', 'concrete', 'db_type', 'delete_cached_value', 'editable', 'empty_strings_allowed', 'field', 'field_name', 'get_accessor_name', 'get_cache_name', 'get_cached_value', 'get_choices', 'get_extra_restriction', 'get_internal_type', 'get_joining_columns', 'get_lookup', 'get_path_info', 'get_related_field', 'hidden', 'identity', 'is_cached', 'is_hidden', 'is_relation', 'limit_choices_to', 'many_to_many', 'many_to_one', 'model', 'multiple', 'name', 'null', 'on_delete', 'one_to_many', 'one_to_one', 'parent_link', 'related_model', 'related_name', 'related_query_name', 'remote_field', 'set_cached_value', 'set_field_name', 'symmetrical', 'target_field']\n",
      "['__class__', '__delattr__', '__dict__', '__dir__', '__doc__', '__eq__', '__format__', '__ge__', '__getattribute__', '__getstate__', '__gt__', '__hash__', '__init__', '__init_subclass__', '__le__', '__lt__', '__module__', '__ne__', '__new__', '__reduce__', '__reduce_ex__', '__repr__', '__setattr__', '__sizeof__', '__str__', '__subclasshook__', '__weakref__', 'auto_created', 'concrete', 'db_type', 'delete_cached_value', 'editable', 'empty_strings_allowed', 'field', 'field_name', 'get_accessor_name', 'get_cache_name', 'get_cached_value', 'get_choices', 'get_extra_restriction', 'get_internal_type', 'get_joining_columns', 'get_lookup', 'get_path_info', 'get_related_field', 'hidden', 'identity', 'is_cached', 'is_hidden', 'is_relation', 'limit_choices_to', 'many_to_many', 'many_to_one', 'model', 'multiple', 'name', 'null', 'on_delete', 'one_to_many', 'one_to_one', 'parent_link', 'related_model', 'related_name', 'related_query_name', 'remote_field', 'set_cached_value', 'set_field_name', 'symmetrical', 'target_field']\n",
      "['__class__', '__delattr__', '__dict__', '__dir__', '__doc__', '__eq__', '__format__', '__ge__', '__getattribute__', '__gt__', '__hash__', '__init__', '__init_subclass__', '__le__', '__lt__', '__module__', '__ne__', '__new__', '__reduce__', '__reduce_ex__', '__repr__', '__setattr__', '__sizeof__', '__slotnames__', '__str__', '__subclasshook__', '__weakref__', 'auto_created', 'concrete', 'db_constraint', 'db_type', 'delete_cached_value', 'editable', 'empty_strings_allowed', 'field', 'get_accessor_name', 'get_cache_name', 'get_cached_value', 'get_choices', 'get_extra_restriction', 'get_internal_type', 'get_joining_columns', 'get_lookup', 'get_path_info', 'get_related_field', 'hidden', 'identity', 'is_cached', 'is_hidden', 'is_relation', 'limit_choices_to', 'many_to_many', 'many_to_one', 'model', 'multiple', 'name', 'null', 'on_delete', 'one_to_many', 'one_to_one', 'parent_link', 'related_model', 'related_name', 'related_query_name', 'remote_field', 'set_cached_value', 'set_field_name', 'symmetrical', 'target_field', 'through', 'through_fields']\n",
      "['__class__', '__delattr__', '__dict__', '__dir__', '__doc__', '__eq__', '__format__', '__ge__', '__getattribute__', '__getstate__', '__gt__', '__hash__', '__init__', '__init_subclass__', '__le__', '__lt__', '__module__', '__ne__', '__new__', '__reduce__', '__reduce_ex__', '__repr__', '__setattr__', '__sizeof__', '__str__', '__subclasshook__', '__weakref__', 'auto_created', 'concrete', 'db_type', 'delete_cached_value', 'editable', 'empty_strings_allowed', 'field', 'field_name', 'get_accessor_name', 'get_cache_name', 'get_cached_value', 'get_choices', 'get_extra_restriction', 'get_internal_type', 'get_joining_columns', 'get_lookup', 'get_path_info', 'get_related_field', 'hidden', 'identity', 'is_cached', 'is_hidden', 'is_relation', 'limit_choices_to', 'many_to_many', 'many_to_one', 'model', 'multiple', 'name', 'null', 'on_delete', 'one_to_many', 'one_to_one', 'parent_link', 'related_model', 'related_name', 'related_query_name', 'remote_field', 'set_cached_value', 'set_field_name', 'symmetrical', 'target_field']\n",
      "['__class__', '__delattr__', '__dict__', '__dir__', '__doc__', '__eq__', '__format__', '__ge__', '__getattribute__', '__getstate__', '__gt__', '__hash__', '__init__', '__init_subclass__', '__le__', '__lt__', '__module__', '__ne__', '__new__', '__reduce__', '__reduce_ex__', '__repr__', '__setattr__', '__sizeof__', '__str__', '__subclasshook__', '__weakref__', 'auto_created', 'concrete', 'db_type', 'delete_cached_value', 'editable', 'empty_strings_allowed', 'field', 'field_name', 'get_accessor_name', 'get_cache_name', 'get_cached_value', 'get_choices', 'get_extra_restriction', 'get_internal_type', 'get_joining_columns', 'get_lookup', 'get_path_info', 'get_related_field', 'hidden', 'identity', 'is_cached', 'is_hidden', 'is_relation', 'limit_choices_to', 'many_to_many', 'many_to_one', 'model', 'multiple', 'name', 'null', 'on_delete', 'one_to_many', 'one_to_one', 'parent_link', 'related_model', 'related_name', 'related_query_name', 'remote_field', 'set_cached_value', 'set_field_name', 'symmetrical', 'target_field']\n",
      "['__class__', '__delattr__', '__dict__', '__dir__', '__doc__', '__eq__', '__format__', '__ge__', '__getattribute__', '__getstate__', '__gt__', '__hash__', '__init__', '__init_subclass__', '__le__', '__lt__', '__module__', '__ne__', '__new__', '__reduce__', '__reduce_ex__', '__repr__', '__setattr__', '__sizeof__', '__str__', '__subclasshook__', '__weakref__', 'auto_created', 'concrete', 'db_type', 'delete_cached_value', 'editable', 'empty_strings_allowed', 'field', 'field_name', 'get_accessor_name', 'get_cache_name', 'get_cached_value', 'get_choices', 'get_extra_restriction', 'get_internal_type', 'get_joining_columns', 'get_lookup', 'get_path_info', 'get_related_field', 'hidden', 'identity', 'is_cached', 'is_hidden', 'is_relation', 'limit_choices_to', 'many_to_many', 'many_to_one', 'model', 'multiple', 'name', 'null', 'on_delete', 'one_to_many', 'one_to_one', 'parent_link', 'related_model', 'related_name', 'related_query_name', 'remote_field', 'set_cached_value', 'set_field_name', 'symmetrical', 'target_field']\n",
      "['__class__', '__delattr__', '__dict__', '__dir__', '__doc__', '__eq__', '__format__', '__ge__', '__getattribute__', '__gt__', '__hash__', '__init__', '__init_subclass__', '__le__', '__lt__', '__module__', '__ne__', '__new__', '__reduce__', '__reduce_ex__', '__repr__', '__setattr__', '__sizeof__', '__slotnames__', '__str__', '__subclasshook__', '__weakref__', 'auto_created', 'concrete', 'db_constraint', 'db_type', 'delete_cached_value', 'editable', 'empty_strings_allowed', 'field', 'get_accessor_name', 'get_cache_name', 'get_cached_value', 'get_choices', 'get_extra_restriction', 'get_internal_type', 'get_joining_columns', 'get_lookup', 'get_path_info', 'get_related_field', 'hidden', 'identity', 'is_cached', 'is_hidden', 'is_relation', 'limit_choices_to', 'many_to_many', 'many_to_one', 'model', 'multiple', 'name', 'null', 'on_delete', 'one_to_many', 'one_to_one', 'parent_link', 'related_model', 'related_name', 'related_query_name', 'remote_field', 'set_cached_value', 'set_field_name', 'symmetrical', 'target_field', 'through', 'through_fields']\n",
      "['__class__', '__delattr__', '__dict__', '__dir__', '__doc__', '__eq__', '__format__', '__ge__', '__getattribute__', '__getstate__', '__gt__', '__hash__', '__init__', '__init_subclass__', '__le__', '__lt__', '__module__', '__ne__', '__new__', '__reduce__', '__reduce_ex__', '__repr__', '__setattr__', '__sizeof__', '__str__', '__subclasshook__', '__weakref__', 'auto_created', 'concrete', 'db_type', 'delete_cached_value', 'editable', 'empty_strings_allowed', 'field', 'field_name', 'get_accessor_name', 'get_cache_name', 'get_cached_value', 'get_choices', 'get_extra_restriction', 'get_internal_type', 'get_joining_columns', 'get_lookup', 'get_path_info', 'get_related_field', 'hidden', 'identity', 'is_cached', 'is_hidden', 'is_relation', 'limit_choices_to', 'many_to_many', 'many_to_one', 'model', 'multiple', 'name', 'null', 'on_delete', 'one_to_many', 'one_to_one', 'parent_link', 'related_model', 'related_name', 'related_query_name', 'remote_field', 'set_cached_value', 'set_field_name', 'symmetrical', 'target_field']\n"
     ]
    }
   ],
   "source": [
    "for obj in per._meta.related_objects:\n",
    "    print(dir(obj))"
   ]
  },
  {
   "cell_type": "code",
   "execution_count": 65,
   "id": "31ef1d3b",
   "metadata": {},
   "outputs": [
    {
     "name": "stdout",
     "output_type": "stream",
     "text": [
      "None\n",
      "None\n",
      "None\n",
      "None\n",
      "None\n",
      "estates\n",
      "None\n",
      "ledgers_holders\n",
      "ledgers_third_parties\n",
      "leases_realties\n",
      "None\n"
     ]
    }
   ],
   "source": [
    "for obj in per._meta.related_objects:\n",
    "    print(obj.related_name)"
   ]
  },
  {
   "cell_type": "code",
   "execution_count": 5,
   "id": "264c03e2",
   "metadata": {},
   "outputs": [
    {
     "data": {
      "text/plain": [
       "<Person_Address: Residencia_Abelio, Carlos>"
      ]
     },
     "execution_count": 5,
     "metadata": {},
     "output_type": "execute_result"
    }
   ],
   "source": [
    "per = Person_Natural.objects.get(pk=321654)\n",
    "adr = Address.objects.all()[0]\n",
    "Person_Address.find.from_related(adr, per)"
   ]
  }
 ],
 "metadata": {
  "kernelspec": {
   "display_name": "Django Shell-Plus",
   "language": "python",
   "name": "django_extensions"
  },
  "language_info": {
   "codemirror_mode": {
    "name": "ipython",
    "version": 3
   },
   "file_extension": ".py",
   "mimetype": "text/x-python",
   "name": "python",
   "nbconvert_exporter": "python",
   "pygments_lexer": "ipython3",
   "version": "3.9.7"
  }
 },
 "nbformat": 4,
 "nbformat_minor": 5
}
