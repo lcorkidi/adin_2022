{
 "cells": [
  {
   "cell_type": "code",
   "execution_count": 1,
   "id": "9020db64",
   "metadata": {},
   "outputs": [],
   "source": [
    "import os\n",
    "import pandas as pd\n",
    "\n",
    "jpath = os.path.join\n",
    "BASEDIR = '/home/leon/projects/adin_2022/'"
   ]
  },
  {
   "cell_type": "code",
   "execution_count": 2,
   "id": "0b79364a",
   "metadata": {},
   "outputs": [
    {
     "data": {
      "text/plain": [
       "<QuerySet [<Person: Corkidi Tzuckerman, León>, <Person: Corkidi Tzuckerman, Yehiel>, <Person: Coragro S.A.>, <Person: Corkidi Yaffe, Alberto>, <Person: Corkidi Yaffe, Isidoro>, <Person: Corkidi Cardenas, Karen>, <Person: Corkidi Cardenas, León>, <Person: Andiplast Envases S.A.S.>, <Person: Maquinpro de Colombia S.A.S.>, <Person: Mulplast S.A.S.>, <Person: Beltran Chaves, Alvaro>, <Person: Cocoambiental S.A.S.>, <Person: Innovaciones Plasticas S.A.S.>, <Person: QW Health de Colombia S.A.S.>, <Person: Alimentos Carnicos S.A.S.>, <Person: Prodeplasticos S.A.S.>, <Person: Palmiplast Industrias S.A.S.>, <Person: O´Celeste S.A.S.>, <Person: Global Tennis S.A.S.>, <Person: Silva Riaños, Luis Fernando>, '...(remaining elements truncated)...']>"
      ]
     },
     "execution_count": 2,
     "metadata": {},
     "output_type": "execute_result"
    }
   ],
   "source": [
    "pers = Person.objects.all()\n",
    "pers"
   ]
  },
  {
   "cell_type": "code",
   "execution_count": 5,
   "id": "ad891847",
   "metadata": {},
   "outputs": [
    {
     "data": {
      "text/plain": [
       "'Corkidi Yaffe, Alberto'"
      ]
     },
     "execution_count": 5,
     "metadata": {},
     "output_type": "execute_result"
    }
   ],
   "source": [
    "per = Person.objects.all()[3]\n",
    "per.complete_name"
   ]
  },
  {
   "cell_type": "code",
   "execution_count": null,
   "id": "a13ba421",
   "metadata": {},
   "outputs": [],
   "source": []
  }
 ],
 "metadata": {
  "kernelspec": {
   "display_name": "Django Shell-Plus",
   "language": "python",
   "name": "django_extensions"
  },
  "language_info": {
   "codemirror_mode": {
    "name": "ipython",
    "version": 3
   },
   "file_extension": ".py",
   "mimetype": "text/x-python",
   "name": "python",
   "nbconvert_exporter": "python",
   "pygments_lexer": "ipython3",
   "version": "3.9.7"
  }
 },
 "nbformat": 4,
 "nbformat_minor": 5
}
