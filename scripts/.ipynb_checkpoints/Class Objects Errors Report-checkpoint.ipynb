{
 "cells": [
  {
   "cell_type": "code",
   "execution_count": 2,
   "id": "70bd9af5",
   "metadata": {},
   "outputs": [],
   "source": [
    "import os\n",
    "from os.path import join\n",
    "from adin.settings import BASE_DIR\n",
    "\n",
    "os.environ[\"DJANGO_ALLOW_ASYNC_UNSAFE\"] = \"true\""
   ]
  },
  {
   "cell_type": "code",
   "execution_count": 7,
   "id": "48f1f6a3",
   "metadata": {},
   "outputs": [
    {
     "data": {
      "text/html": [
       "<div>\n",
       "<style scoped>\n",
       "    .dataframe tbody tr th:only-of-type {\n",
       "        vertical-align: middle;\n",
       "    }\n",
       "\n",
       "    .dataframe tbody tr th {\n",
       "        vertical-align: top;\n",
       "    }\n",
       "\n",
       "    .dataframe thead th {\n",
       "        text-align: right;\n",
       "    }\n",
       "</style>\n",
       "<table border=\"1\" class=\"dataframe\">\n",
       "  <thead>\n",
       "    <tr style=\"text-align: right;\">\n",
       "      <th></th>\n",
       "      <th>factor</th>\n",
       "      <th>validity_date</th>\n",
       "      <th>amount</th>\n",
       "      <th>percentage</th>\n",
       "      <th>in_instance_attribute</th>\n",
       "    </tr>\n",
       "  </thead>\n",
       "  <tbody>\n",
       "    <tr>\n",
       "      <th>0</th>\n",
       "      <td>IVA</td>\n",
       "      <td>2022-01-01</td>\n",
       "      <td>0</td>\n",
       "      <td>19.000</td>\n",
       "      <td>None</td>\n",
       "    </tr>\n",
       "    <tr>\n",
       "      <th>1</th>\n",
       "      <td>Base</td>\n",
       "      <td>2022-01-01</td>\n",
       "      <td>0</td>\n",
       "      <td>100.000</td>\n",
       "      <td>None</td>\n",
       "    </tr>\n",
       "  </tbody>\n",
       "</table>\n",
       "</div>"
      ],
      "text/plain": [
       "  factor validity_date  amount percentage in_instance_attribute\n",
       "0    IVA    2022-01-01       0     19.000                  None\n",
       "1   Base    2022-01-01       0    100.000                  None"
      ]
     },
     "execution_count": 7,
     "metadata": {},
     "output_type": "execute_result"
    }
   ],
   "source": [
    "objs=pd.DataFrame(Factor_Data.objects.values('factor', 'validity_date', 'amount', 'percentage', 'in_instance_attribute'))\n",
    "objs"
   ]
  },
  {
   "cell_type": "code",
   "execution_count": 4,
   "id": "b83d94b1",
   "metadata": {},
   "outputs": [
    {
     "data": {
      "text/html": [
       "<div>\n",
       "<style scoped>\n",
       "    .dataframe tbody tr th:only-of-type {\n",
       "        vertical-align: middle;\n",
       "    }\n",
       "\n",
       "    .dataframe tbody tr th {\n",
       "        vertical-align: top;\n",
       "    }\n",
       "\n",
       "    .dataframe thead th {\n",
       "        text-align: right;\n",
       "    }\n",
       "</style>\n",
       "<table border=\"1\" class=\"dataframe\">\n",
       "  <thead>\n",
       "    <tr style=\"text-align: right;\">\n",
       "      <th></th>\n",
       "      <th>name</th>\n",
       "      <th>date</th>\n",
       "      <th>errors</th>\n",
       "    </tr>\n",
       "  </thead>\n",
       "  <tbody>\n",
       "    <tr>\n",
       "      <th>0</th>\n",
       "      <td>Fecha Inicio Cotabilidad</td>\n",
       "      <td>2022-01-01</td>\n",
       "      <td>[]</td>\n",
       "    </tr>\n",
       "  </tbody>\n",
       "</table>\n",
       "</div>"
      ],
      "text/plain": [
       "                       name        date errors\n",
       "0  Fecha Inicio Cotabilidad  2022-01-01     []"
      ]
     },
     "execution_count": 4,
     "metadata": {},
     "output_type": "execute_result"
    }
   ],
   "source": [
    "objs1=objs.assign(errors=objs.name.apply(lambda x: Calendar_Date.objects.get(pk=x).get_obj_errors()))\n",
    "objs1"
   ]
  },
  {
   "cell_type": "code",
   "execution_count": 5,
   "id": "4896c3cf",
   "metadata": {},
   "outputs": [],
   "source": [
    "objs1.to_csv(join(BASE_DIR, f'_files/reports/{datetime.date.today().strftime(\"%Y-%m-%d\")}_calendar_date_errors.csv'), index=False)"
   ]
  },
  {
   "cell_type": "code",
   "execution_count": 4,
   "id": "f187e381",
   "metadata": {},
   "outputs": [
    {
     "data": {
      "text/html": [
       "<div>\n",
       "<style scoped>\n",
       "    .dataframe tbody tr th:only-of-type {\n",
       "        vertical-align: middle;\n",
       "    }\n",
       "\n",
       "    .dataframe tbody tr th {\n",
       "        vertical-align: top;\n",
       "    }\n",
       "\n",
       "    .dataframe thead th {\n",
       "        text-align: right;\n",
       "    }\n",
       "</style>\n",
       "<table border=\"1\" class=\"dataframe\">\n",
       "  <thead>\n",
       "    <tr style=\"text-align: right;\">\n",
       "      <th></th>\n",
       "      <th>state_change_user_id</th>\n",
       "      <th>state_change_date</th>\n",
       "      <th>state</th>\n",
       "      <th>code</th>\n",
       "      <th>country</th>\n",
       "      <th>region</th>\n",
       "      <th>city</th>\n",
       "      <th>street_type</th>\n",
       "      <th>street_number</th>\n",
       "      <th>street_letter</th>\n",
       "      <th>...</th>\n",
       "      <th>numeral_number</th>\n",
       "      <th>numeral_letter</th>\n",
       "      <th>numeral_bis</th>\n",
       "      <th>numeral_bis_complement</th>\n",
       "      <th>numeral_coordinate</th>\n",
       "      <th>height_number</th>\n",
       "      <th>interior_group_type</th>\n",
       "      <th>interior_group_code</th>\n",
       "      <th>interior_type</th>\n",
       "      <th>interior_code</th>\n",
       "    </tr>\n",
       "  </thead>\n",
       "  <tbody>\n",
       "    <tr>\n",
       "      <th>0</th>\n",
       "      <td>3</td>\n",
       "      <td>2022-07-13 20:34:37.869356+00:00</td>\n",
       "      <td>1</td>\n",
       "      <td>K1-59B-21B603</td>\n",
       "      <td>Colombia</td>\n",
       "      <td>Valle del Cauca</td>\n",
       "      <td>CALI</td>\n",
       "      <td>2</td>\n",
       "      <td>1</td>\n",
       "      <td>None</td>\n",
       "      <td>...</td>\n",
       "      <td>59</td>\n",
       "      <td>1</td>\n",
       "      <td>None</td>\n",
       "      <td>None</td>\n",
       "      <td>None</td>\n",
       "      <td>21</td>\n",
       "      <td>0</td>\n",
       "      <td>603</td>\n",
       "      <td>None</td>\n",
       "      <td>None</td>\n",
       "    </tr>\n",
       "  </tbody>\n",
       "</table>\n",
       "<p>1 rows × 23 columns</p>\n",
       "</div>"
      ],
      "text/plain": [
       "   state_change_user_id                state_change_date  state  \\\n",
       "0                     3 2022-07-13 20:34:37.869356+00:00      1   \n",
       "\n",
       "            code   country           region  city  street_type  street_number  \\\n",
       "0  K1-59B-21B603  Colombia  Valle del Cauca  CALI            2              1   \n",
       "\n",
       "  street_letter  ... numeral_number numeral_letter numeral_bis  \\\n",
       "0          None  ...             59              1        None   \n",
       "\n",
       "   numeral_bis_complement  numeral_coordinate height_number  \\\n",
       "0                    None                None            21   \n",
       "\n",
       "  interior_group_type interior_group_code  interior_type  interior_code  \n",
       "0                   0                 603           None           None  \n",
       "\n",
       "[1 rows x 23 columns]"
      ]
     },
     "execution_count": 4,
     "metadata": {},
     "output_type": "execute_result"
    }
   ],
   "source": [
    "obj=pd.DataFrame(Address.objects.filter(pk='K1-59B-21B603').values())\n",
    "obj"
   ]
  }
 ],
 "metadata": {
  "kernelspec": {
   "display_name": "Django Shell-Plus",
   "language": "python",
   "name": "django_extensions"
  },
  "language_info": {
   "codemirror_mode": {
    "name": "ipython",
    "version": 3
   },
   "file_extension": ".py",
   "mimetype": "text/x-python",
   "name": "python",
   "nbconvert_exporter": "python",
   "pygments_lexer": "ipython3",
   "version": "3.9.7"
  }
 },
 "nbformat": 4,
 "nbformat_minor": 5
}
