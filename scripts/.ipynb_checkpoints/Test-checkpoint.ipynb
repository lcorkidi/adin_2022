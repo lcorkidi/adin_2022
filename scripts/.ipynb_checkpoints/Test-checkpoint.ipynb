{
 "cells": [
  {
   "cell_type": "code",
   "execution_count": 5,
   "id": "9020db64",
   "metadata": {},
   "outputs": [],
   "source": [
    "import os\n",
    "import pandas as pd\n",
    "\n",
    "jpath = os.path.join\n",
    "BASEDIR = '/home/leon/projects/adin_2022/'"
   ]
  },
  {
   "cell_type": "code",
   "execution_count": 6,
   "id": "0b79364a",
   "metadata": {},
   "outputs": [
    {
     "data": {
      "text/plain": [
       "<QuerySet [<Person: Corkidi Tzuckerman, León>, <Person: Corkidi Tzuckerman, Yehiel>, <Person: Coragro S.A.>, <Person: Corkidi Yaffe, Alberto>, <Person: Corkidi Yaffe, Isidoro>, <Person: Corkidi Cardenas, Karen>, <Person: Corkidi Cardenas, León>, <Person: Andiplast Envases S.A.S>, <Person: Maquinpro de Colombia S.A.S>, <Person: Mulplast S.A.S>, <Person: Beltran Chaves, Alvaro>, <Person: Cocoambiental S.A.S>, <Person: Innovaciones Plasticas S.A.S>, <Person: QW Health de Colombia S.A.S>, <Person: Alimentos Carnicos S.A.S>, <Person: Prodeplasticos S.A.S>, <Person: Palmiplast Industrias S.A.S>, <Person: O´Celeste S.A.S>, <Person: Global Tennis S.A.S>, <Person: Silva Riaños, Luis Fernando>, '...(remaining elements truncated)...']>"
      ]
     },
     "execution_count": 6,
     "metadata": {},
     "output_type": "execute_result"
    }
   ],
   "source": [
    "pers = Person.objects.all()\n",
    "pers"
   ]
  },
  {
   "cell_type": "code",
   "execution_count": 8,
   "id": "d0843033",
   "metadata": {},
   "outputs": [
    {
     "ename": "SyntaxError",
     "evalue": "invalid syntax (910245205.py, line 2)",
     "output_type": "error",
     "traceback": [
      "\u001b[0;36m  File \u001b[0;32m\"/tmp/ipykernel_2136/910245205.py\"\u001b[0;36m, line \u001b[0;32m2\u001b[0m\n\u001b[0;31m    for per in pers\u001b[0m\n\u001b[0m                   ^\u001b[0m\n\u001b[0;31mSyntaxError\u001b[0m\u001b[0;31m:\u001b[0m invalid syntax\n"
     ]
    }
   ],
   "source": [
    "data = []\n",
    "for per in pers:\n",
    "    per_data = {}\n",
    "    per_data['name'] = per.complete_name()\n",
    "    per_data['id_tpe'] = per.get_id_type_display()\n",
    "    per_data['id_number'] = str(per.id_number)\n",
    "    data.append(per_data)\n",
    "data"
   ]
  },
  {
   "cell_type": "code",
   "execution_count": null,
   "id": "996a2750",
   "metadata": {},
   "outputs": [],
   "source": []
  }
 ],
 "metadata": {
  "kernelspec": {
   "display_name": "Django Shell-Plus",
   "language": "python",
   "name": "django_extensions"
  },
  "language_info": {
   "codemirror_mode": {
    "name": "ipython",
    "version": 3
   },
   "file_extension": ".py",
   "mimetype": "text/x-python",
   "name": "python",
   "nbconvert_exporter": "python",
   "pygments_lexer": "ipython3",
   "version": "3.9.7"
  }
 },
 "nbformat": 4,
 "nbformat_minor": 5
}
