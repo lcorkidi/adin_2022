{
 "cells": [
  {
   "cell_type": "code",
   "execution_count": 10,
   "id": "9020db64",
   "metadata": {},
   "outputs": [],
   "source": [
    "from people.forms.person_address_forms import Person_AddressCreateForm"
   ]
  },
  {
   "cell_type": "code",
   "execution_count": 11,
   "id": "0b79364a",
   "metadata": {},
   "outputs": [],
   "source": [
    "pa=Person_Address.objects.all()[0]\n",
    "paf=Person_AddressCreateForm(instance=pa)"
   ]
  },
  {
   "cell_type": "code",
   "execution_count": 12,
   "id": "011709e8",
   "metadata": {},
   "outputs": [
    {
     "ename": "TypeError",
     "evalue": "visible_fields() takes 1 positional argument but 2 were given",
     "output_type": "error",
     "traceback": [
      "\u001b[0;31m---------------------------------------------------------------------------\u001b[0m",
      "\u001b[0;31mTypeError\u001b[0m                                 Traceback (most recent call last)",
      "\u001b[0;32m/tmp/ipykernel_2258/1889355501.py\u001b[0m in \u001b[0;36m<module>\u001b[0;34m\u001b[0m\n\u001b[0;32m----> 1\u001b[0;31m \u001b[0mpaf\u001b[0m\u001b[0;34m.\u001b[0m\u001b[0mvisible_fields\u001b[0m\u001b[0;34m(\u001b[0m\u001b[0mpaf\u001b[0m\u001b[0;34m)\u001b[0m\u001b[0;34m\u001b[0m\u001b[0;34m\u001b[0m\u001b[0m\n\u001b[0m",
      "\u001b[0;31mTypeError\u001b[0m: visible_fields() takes 1 positional argument but 2 were given"
     ]
    }
   ],
   "source": [
    "paf.visible_fields()"
   ]
  },
  {
   "cell_type": "code",
   "execution_count": null,
   "id": "bedf7709",
   "metadata": {},
   "outputs": [],
   "source": []
  }
 ],
 "metadata": {
  "kernelspec": {
   "display_name": "Django Shell-Plus",
   "language": "python",
   "name": "django_extensions"
  },
  "language_info": {
   "codemirror_mode": {
    "name": "ipython",
    "version": 3
   },
   "file_extension": ".py",
   "mimetype": "text/x-python",
   "name": "python",
   "nbconvert_exporter": "python",
   "pygments_lexer": "ipython3",
   "version": "3.9.7"
  }
 },
 "nbformat": 4,
 "nbformat_minor": 5
}
