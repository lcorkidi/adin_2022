{
 "cells": [
  {
   "cell_type": "code",
   "execution_count": 15,
   "id": "7627c780",
   "metadata": {},
   "outputs": [],
   "source": [
    "import os\n",
    "from os.path import join\n",
    "from adin.settings import BASE_DIR\n",
    "\n",
    "os.environ[\"DJANGO_ALLOW_ASYNC_UNSAFE\"] = \"true\""
   ]
  },
  {
   "cell_type": "code",
   "execution_count": 3,
   "id": "1f03af6d",
   "metadata": {},
   "outputs": [
    {
     "data": {
      "text/plain": [
       "<Lease_Realty: C18-1N-41^2021-02-01>"
      ]
     },
     "execution_count": 3,
     "metadata": {},
     "output_type": "execute_result"
    }
   ],
   "source": [
    "lr=Lease_Realty.objects.all()[0]\n",
    "lr"
   ]
  },
  {
   "cell_type": "code",
   "execution_count": 16,
   "id": "04c7bb3a",
   "metadata": {},
   "outputs": [
    {
     "data": {
      "text/plain": [
       "[datetime.date(2022, 2, 1)]"
      ]
     },
     "execution_count": 16,
     "metadata": {},
     "output_type": "execute_result"
    }
   ],
   "source": [
    "lr.pending_date_values()"
   ]
  },
  {
   "cell_type": "raw",
   "id": "06a4ec15",
   "metadata": {},
   "source": [
    "df=pd.DataFrame(Lease_Realty.objects.values('pk'))\n",
    "df.assign(instance=df.pk.apply(lambda x: Lease_Realty.objects.get(pk=x).pending_date_values()))\\\n",
    ".to_csv(join(BASE_DIR, f'_files/reports/{datetime.date.today().strftime(\"%Y-%m-%d\")}_pending_date_values.csv'), float_format='%.0f', na_rep=None)"
   ]
  }
 ],
 "metadata": {
  "kernelspec": {
   "display_name": "Django Shell-Plus",
   "language": "python",
   "name": "django_extensions"
  },
  "language_info": {
   "codemirror_mode": {
    "name": "ipython",
    "version": 3
   },
   "file_extension": ".py",
   "mimetype": "text/x-python",
   "name": "python",
   "nbconvert_exporter": "python",
   "pygments_lexer": "ipython3",
   "version": "3.9.7"
  }
 },
 "nbformat": 4,
 "nbformat_minor": 5
}
