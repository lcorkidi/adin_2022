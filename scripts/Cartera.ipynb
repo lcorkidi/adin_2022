{
 "cells": [
  {
   "cell_type": "code",
   "execution_count": 1,
   "id": "93341f4d",
   "metadata": {},
   "outputs": [],
   "source": [
    "import os\n",
    "\n",
    "os.environ[\"DJANGO_ALLOW_ASYNC_UNSAFE\"] = \"true\"\n",
    "\n",
    "pd.set_option('display.max_rows', 500)"
   ]
  },
  {
   "cell_type": "code",
   "execution_count": 3,
   "id": "5c907f2d",
   "metadata": {},
   "outputs": [
    {
     "data": {
      "text/plain": [
       "<Person: Arbelaez Ceballos, Luis Alberto>"
      ]
     },
     "execution_count": 3,
     "metadata": {},
     "output_type": "execute_result"
    }
   ],
   "source": [
    "per=Person.objects.get(pk=70903810)\n",
    "per"
   ]
  },
  {
   "cell_type": "code",
   "execution_count": 5,
   "id": "156f30cd",
   "metadata": {},
   "outputs": [
    {
     "data": {
      "text/plain": [
       "<QuerySet [<Charge: FV-00000413^2022-01-01_Arbelaez Ceballos, Luis Alberto_13802005_Facturacion Arriendo sin IVA^2022-01-01_A6N-13N-66^2019-04-01>, <Charge: FV-00000414^2022-02-01_Arbelaez Ceballos, Luis Alberto_13802005_Facturacion Arriendo sin IVA^2022-02-01_A6N-13N-66^2019-04-01>, <Charge: FV-00000415^2022-03-01_Arbelaez Ceballos, Luis Alberto_13802005_Facturacion Arriendo sin IVA^2022-03-01_A6N-13N-66^2019-04-01>, <Charge: FV-00000416^2022-04-01_Arbelaez Ceballos, Luis Alberto_13802005_Facturacion Arriendo sin IVA^2022-04-01_A6N-13N-66^2019-04-01>, <Charge: FV-00000417^2022-05-01_Arbelaez Ceballos, Luis Alberto_13802005_Facturacion Arriendo sin IVA^2022-05-01_A6N-13N-66^2019-04-01>, <Charge: FV-00000418^2022-06-01_Arbelaez Ceballos, Luis Alberto_13802005_Facturacion Arriendo sin IVA^2022-06-01_A6N-13N-66^2019-04-01>, <Charge: FV-00000419^2022-07-01_Arbelaez Ceballos, Luis Alberto_13802005_Facturacion Arriendo sin IVA^2022-07-01_A6N-13N-66^2019-04-01>, <Charge: FV-00000420^2022-08-01_Arbelaez Ceballos, Luis Alberto_13802005_Facturacion Arriendo sin IVA^2022-08-01_A6N-13N-66^2019-04-01>, <Charge: FV-00000421^2022-09-01_Arbelaez Ceballos, Luis Alberto_13802005_Facturacion Arriendo sin IVA^2022-09-01_A6N-13N-66^2019-04-01>, <Charge: FV-00000422^2022-10-01_Arbelaez Ceballos, Luis Alberto_13802005_Facturacion Arriendo sin IVA^2022-10-01_A6N-13N-66^2019-04-01>, <Charge: FV-00000423^2022-01-01_Arbelaez Ceballos, Luis Alberto_13802005_Facturacion Arriendo sin IVA^2022-01-01_A6N-13N-68^1999-02-01>, <Charge: FV-00000424^2022-02-01_Arbelaez Ceballos, Luis Alberto_13802005_Facturacion Arriendo sin IVA^2022-02-01_A6N-13N-68^1999-02-01>, <Charge: FV-00000425^2022-03-01_Arbelaez Ceballos, Luis Alberto_13802005_Facturacion Arriendo sin IVA^2022-03-01_A6N-13N-68^1999-02-01>, <Charge: FV-00000426^2022-04-01_Arbelaez Ceballos, Luis Alberto_13802005_Facturacion Arriendo sin IVA^2022-04-01_A6N-13N-68^1999-02-01>, <Charge: FV-00000427^2022-05-01_Arbelaez Ceballos, Luis Alberto_13802005_Facturacion Arriendo sin IVA^2022-05-01_A6N-13N-68^1999-02-01>, <Charge: FV-00000428^2022-06-01_Arbelaez Ceballos, Luis Alberto_13802005_Facturacion Arriendo sin IVA^2022-06-01_A6N-13N-68^1999-02-01>, <Charge: FV-00000429^2022-07-01_Arbelaez Ceballos, Luis Alberto_13802005_Facturacion Arriendo sin IVA^2022-07-01_A6N-13N-68^1999-02-01>, <Charge: FV-00000430^2022-08-01_Arbelaez Ceballos, Luis Alberto_13802005_Facturacion Arriendo sin IVA^2022-08-01_A6N-13N-68^1999-02-01>, <Charge: FV-00000431^2022-09-01_Arbelaez Ceballos, Luis Alberto_13802005_Facturacion Arriendo sin IVA^2022-09-01_A6N-13N-68^1999-02-01>, <Charge: FV-00000432^2022-10-01_Arbelaez Ceballos, Luis Alberto_13802005_Facturacion Arriendo sin IVA^2022-10-01_A6N-13N-68^1999-02-01>]>"
      ]
     },
     "execution_count": 5,
     "metadata": {},
     "output_type": "execute_result"
    }
   ],
   "source": [
    "Charge.objects.filter(account__in=[13802005], value__gt=0, ledger__third_party=per)"
   ]
  },
  {
   "cell_type": "code",
   "execution_count": null,
   "id": "06e7c870",
   "metadata": {},
   "outputs": [],
   "source": []
  }
 ],
 "metadata": {
  "kernelspec": {
   "display_name": "Django Shell-Plus",
   "language": "python",
   "name": "django_extensions"
  },
  "language_info": {
   "codemirror_mode": {
    "name": "ipython",
    "version": 3
   },
   "file_extension": ".py",
   "mimetype": "text/x-python",
   "name": "python",
   "nbconvert_exporter": "python",
   "pygments_lexer": "ipython3",
   "version": "3.9.7"
  }
 },
 "nbformat": 4,
 "nbformat_minor": 5
}
