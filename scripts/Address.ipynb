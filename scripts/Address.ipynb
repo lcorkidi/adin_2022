{
 "cells": [
  {
   "cell_type": "code",
   "execution_count": null,
   "id": "37ba0666",
   "metadata": {},
   "outputs": [],
   "source": [
    "add = Address(country='Colombia', region='Valle', city='Cali', street_type=0, street_number=6, street_coordinates=0, numeral_number=13, numeral_coordinates=0, height_number=62, interior_type=2, interior_code=1)\n"
   ]
  }
 ],
 "metadata": {
  "kernelspec": {
   "display_name": "Django Shell-Plus",
   "language": "python",
   "name": "django_extensions"
  },
  "language_info": {
   "codemirror_mode": {
    "name": "ipython",
    "version": 3
   },
   "file_extension": ".py",
   "mimetype": "text/x-python",
   "name": "python",
   "nbconvert_exporter": "python",
   "pygments_lexer": "ipython3",
   "version": "3.9.7"
  }
 },
 "nbformat": 4,
 "nbformat_minor": 5
}
