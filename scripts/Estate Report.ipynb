{
 "cells": [
  {
   "cell_type": "code",
   "execution_count": 1,
   "id": "70bd9af5",
   "metadata": {},
   "outputs": [],
   "source": [
    "import os\n",
    "import csv\n",
    "import adin.settings as st\n",
    "from IPython.display import display\n",
    "from references.forms.address_forms import AddressCreateModelForm\n",
    "from os.path import join\n",
    "from adin.settings import BASE_DIR\n",
    "\n",
    "from scripts.utils import m2m_info, m2m_load, m2m_backup\n",
    "\n",
    "os.environ[\"DJANGO_ALLOW_ASYNC_UNSAFE\"] = \"true\""
   ]
  },
  {
   "cell_type": "code",
   "execution_count": 2,
   "id": "6c251cc6",
   "metadata": {},
   "outputs": [
    {
     "data": {
      "text/plain": [
       "<Estate: A6N-13N-62>"
      ]
     },
     "execution_count": 2,
     "metadata": {},
     "output_type": "execute_result"
    }
   ],
   "source": [
    "estate=Estate.objects.all()[0]\n",
    "estate"
   ]
  },
  {
   "cell_type": "code",
   "execution_count": 9,
   "id": "30a7667c",
   "metadata": {},
   "outputs": [
    {
     "data": {
      "text/plain": [
       "Decimal('100')"
      ]
     },
     "execution_count": 9,
     "metadata": {},
     "output_type": "execute_result"
    }
   ],
   "source": [
    "estate.estate_person_set.exclude(state=0).aggregate(Sum('percentage'))['percentage__sum']"
   ]
  }
 ],
 "metadata": {
  "kernelspec": {
   "display_name": "Django Shell-Plus",
   "language": "python",
   "name": "django_extensions"
  },
  "language_info": {
   "codemirror_mode": {
    "name": "ipython",
    "version": 3
   },
   "file_extension": ".py",
   "mimetype": "text/x-python",
   "name": "python",
   "nbconvert_exporter": "python",
   "pygments_lexer": "ipython3",
   "version": "3.9.7"
  }
 },
 "nbformat": 4,
 "nbformat_minor": 5
}
